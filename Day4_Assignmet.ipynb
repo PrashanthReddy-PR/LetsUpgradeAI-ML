{
  "nbformat": 4,
  "nbformat_minor": 0,
  "metadata": {
    "colab": {
      "name": "Day4_Assignmet.ipynb",
      "provenance": [],
      "collapsed_sections": []
    },
    "kernelspec": {
      "name": "python3",
      "display_name": "Python 3"
    }
  },
  "cells": [
    {
      "cell_type": "code",
      "metadata": {
        "id": "hDjAn4tuF60R",
        "colab_type": "code",
        "colab": {
          "base_uri": "https://localhost:8080/",
          "height": 299
        },
        "outputId": "e8277dce-ed3e-43c5-812f-dbc912fc7073"
      },
      "source": [
        "\"\"\"Research on whether addition, subtraction, multiplication, division, floor division and modulo\n",
        "operations be performed on complex numbers. Based on your study, implement a Python\n",
        "program to demonstrate these operations\"\"\"\n",
        "a=2+3j\n",
        "b=5+7j\n",
        "c=a+b\n",
        "print(\"addition is performed on complex number\",c)\n",
        "d=a-b\n",
        "print(\"Subtraction is performed on complex number\",d)\n",
        "e=a*b\n",
        "print(\"multiplication is performed on complex number\",e)\n",
        "f=a/b\n",
        "print(\"division is performed on complex number\",f)\n",
        "g=a//b\n",
        "print(\"floor is performed on complex number\",g)\n",
        "h=a%b\n",
        "print(\"module is performed on complex number\",h)"
      ],
      "execution_count": 6,
      "outputs": [
        {
          "output_type": "stream",
          "text": [
            "addition is performed on complex number (7+10j)\n",
            "Subtraction is performed on complex number (-3-4j)\n",
            "multiplication is performed on complex number (-11+29j)\n",
            "division is performed on complex number (0.41891891891891897+0.013513513513513507j)\n"
          ],
          "name": "stdout"
        },
        {
          "output_type": "error",
          "ename": "TypeError",
          "evalue": "ignored",
          "traceback": [
            "\u001b[0;31m---------------------------------------------------------------------------\u001b[0m",
            "\u001b[0;31mTypeError\u001b[0m                                 Traceback (most recent call last)",
            "\u001b[0;32m<ipython-input-6-f33718af4b3e>\u001b[0m in \u001b[0;36m<module>\u001b[0;34m()\u001b[0m\n\u001b[1;32m     12\u001b[0m \u001b[0mf\u001b[0m\u001b[0;34m=\u001b[0m\u001b[0ma\u001b[0m\u001b[0;34m/\u001b[0m\u001b[0mb\u001b[0m\u001b[0;34m\u001b[0m\u001b[0;34m\u001b[0m\u001b[0m\n\u001b[1;32m     13\u001b[0m \u001b[0mprint\u001b[0m\u001b[0;34m(\u001b[0m\u001b[0;34m\"division is performed on complex number\"\u001b[0m\u001b[0;34m,\u001b[0m\u001b[0mf\u001b[0m\u001b[0;34m)\u001b[0m\u001b[0;34m\u001b[0m\u001b[0;34m\u001b[0m\u001b[0m\n\u001b[0;32m---> 14\u001b[0;31m \u001b[0mg\u001b[0m\u001b[0;34m=\u001b[0m\u001b[0ma\u001b[0m\u001b[0;34m//\u001b[0m\u001b[0mb\u001b[0m\u001b[0;34m\u001b[0m\u001b[0;34m\u001b[0m\u001b[0m\n\u001b[0m\u001b[1;32m     15\u001b[0m \u001b[0mprint\u001b[0m\u001b[0;34m(\u001b[0m\u001b[0;34m\"floor is performed on complex number\"\u001b[0m\u001b[0;34m,\u001b[0m\u001b[0mg\u001b[0m\u001b[0;34m)\u001b[0m\u001b[0;34m\u001b[0m\u001b[0;34m\u001b[0m\u001b[0m\n\u001b[1;32m     16\u001b[0m \u001b[0mh\u001b[0m\u001b[0;34m=\u001b[0m\u001b[0ma\u001b[0m\u001b[0;34m%\u001b[0m\u001b[0mb\u001b[0m\u001b[0;34m\u001b[0m\u001b[0;34m\u001b[0m\u001b[0m\n",
            "\u001b[0;31mTypeError\u001b[0m: can't take floor of complex number."
          ]
        }
      ]
    },
    {
      "cell_type": "markdown",
      "metadata": {
        "id": "TB1DvH0OIhDH",
        "colab_type": "text"
      },
      "source": [
        "module and floor operation or not performed on complex numbers. it raises type error "
      ]
    },
    {
      "cell_type": "code",
      "metadata": {
        "id": "TSUn4TNLJKr4",
        "colab_type": "code",
        "colab": {
          "base_uri": "https://localhost:8080/",
          "height": 102
        },
        "outputId": "00106567-ea09-4fe5-ec0f-274324753421"
      },
      "source": [
        "\"\"\"Research on range() functions and its parameters. Create a markdown cell and write in your own\n",
        "words (no copy-paste from google please) what you understand about it. Implement a small\n",
        "program of your choice on the same.\"\"\"\n",
        "x = range(5)\n",
        "for n in x:\n",
        "  print(n)"
      ],
      "execution_count": 13,
      "outputs": [
        {
          "output_type": "stream",
          "text": [
            "0\n",
            "1\n",
            "2\n",
            "3\n",
            "4\n"
          ],
          "name": "stdout"
        }
      ]
    },
    {
      "cell_type": "markdown",
      "metadata": {
        "id": "_HW1EN8hOCxB",
        "colab_type": "text"
      },
      "source": [
        "**Range()function:**\n",
        "Range function is a sequence of order it contains three parameter start,stop,step.\n",
        "\n",
        "*   Start is the lower limit which at 0 by default. \n",
        "*   Stop is the upper limit end of sequence number.\n",
        "*   Step will create difference with given number.\n",
        "\n",
        "\n",
        "\n",
        "\n"
      ]
    },
    {
      "cell_type": "code",
      "metadata": {
        "id": "0eA9ugO_PCZw",
        "colab_type": "code",
        "colab": {
          "base_uri": "https://localhost:8080/",
          "height": 34
        },
        "outputId": "c482151d-bf8e-426c-f8af-e903318ec017"
      },
      "source": [
        "\"\"\"Consider two numbers. Perform their subtraction and if the result of subtraction is greater than\n",
        "25, print their multiplication result else print their division result\"\"\"\n",
        "a=50\n",
        "b=20\n",
        "c=a-b\n",
        "if(c>25):\n",
        "   print(a*b)\n",
        "else:\n",
        "   print(a/b)"
      ],
      "execution_count": 19,
      "outputs": [
        {
          "output_type": "stream",
          "text": [
            "1000\n"
          ],
          "name": "stdout"
        }
      ]
    },
    {
      "cell_type": "code",
      "metadata": {
        "id": "9EaGIralQia0",
        "colab_type": "code",
        "colab": {
          "base_uri": "https://localhost:8080/",
          "height": 102
        },
        "outputId": "8a9b45b0-8fcf-4ccd-8734-eb662a33e605"
      },
      "source": [
        "'''Consider a list of 10 elements of integer values. If the number in the list is divisible by 2, print the\n",
        "result as \"square of that number minus 2\".\n",
        "Question 5:'''\n",
        "l=[1,2,3,4,5,6,7,8,9,10]\n",
        "for i in l:\n",
        "  if(i%2==0):\n",
        "          print(i**2)\n",
        "   \n",
        "  "
      ],
      "execution_count": 32,
      "outputs": [
        {
          "output_type": "stream",
          "text": [
            "4\n",
            "16\n",
            "36\n",
            "64\n",
            "100\n"
          ],
          "name": "stdout"
        }
      ]
    },
    {
      "cell_type": "code",
      "metadata": {
        "id": "lbDQj8bgZrQD",
        "colab_type": "code",
        "colab": {
          "base_uri": "https://localhost:8080/",
          "height": 68
        },
        "outputId": "606b1340-c323-458d-a0bd-2bfea1d4dcbe"
      },
      "source": [
        "'''Consider a list of 10 elements. Print all the elements in the list which are greater than 7 when that\n",
        "number is divided 2'''\n",
        "l=[1,2,3,4,5,6,7,8,9,10]\n",
        "for i in l:\n",
        "  if(i>7 and i/2):\n",
        "          print(i)"
      ],
      "execution_count": 29,
      "outputs": [
        {
          "output_type": "stream",
          "text": [
            "8\n",
            "9\n",
            "10\n"
          ],
          "name": "stdout"
        }
      ]
    }
  ]
}