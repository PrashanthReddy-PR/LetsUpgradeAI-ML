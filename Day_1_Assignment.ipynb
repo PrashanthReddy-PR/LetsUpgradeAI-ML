{
  "nbformat": 4,
  "nbformat_minor": 0,
  "metadata": {
    "colab": {
      "name": "Day_1_Assignment.ipynb",
      "provenance": []
    },
    "kernelspec": {
      "name": "python3",
      "display_name": "Python 3"
    }
  },
  "cells": [
    {
      "cell_type": "code",
      "metadata": {
        "id": "ofvOj65sLy_M",
        "colab_type": "code",
        "colab": {
          "base_uri": "https://localhost:8080/",
          "height": 34
        },
        "outputId": "baa3628c-4fa3-462a-b20c-8516ec82b837"
      },
      "source": [
        "\"\"\"Subtraction of two complex numbers\"\"\"\n",
        "a=8+7j\n",
        "b=1+2j\n",
        "c=a-b\n",
        "print(c)\n"
      ],
      "execution_count": 11,
      "outputs": [
        {
          "output_type": "stream",
          "text": [
            "(7+5j)\n"
          ],
          "name": "stdout"
        }
      ]
    },
    {
      "cell_type": "code",
      "metadata": {
        "id": "rV7RoVtjOLs0",
        "colab_type": "code",
        "colab": {
          "base_uri": "https://localhost:8080/",
          "height": 34
        },
        "outputId": "b66bb054-0cd5-4da8-8c8a-56c8c656613b"
      },
      "source": [
        "\"\"\"Write a program to find the fourth root of a number\"\"\"\n",
        "a=9\n",
        "print(a**(1/4))"
      ],
      "execution_count": 19,
      "outputs": [
        {
          "output_type": "stream",
          "text": [
            "1.7320508075688772\n"
          ],
          "name": "stdout"
        }
      ]
    },
    {
      "cell_type": "code",
      "metadata": {
        "id": "mA7BCPQ3R9yE",
        "colab_type": "code",
        "colab": {
          "base_uri": "https://localhost:8080/",
          "height": 51
        },
        "outputId": "051700cc-df70-44f6-ce48-1b9ee07fc295"
      },
      "source": [
        "\"\"\"Write a program to swap two numbers in Python with the help of a temporary variable\"\"\"\n",
        "a=10\n",
        "b=20\n",
        "print(\"before swap\",a,b)\n",
        "temp=a\n",
        "a=b\n",
        "b=temp\n",
        "print(\"after swap\",a,b)"
      ],
      "execution_count": 21,
      "outputs": [
        {
          "output_type": "stream",
          "text": [
            "before swap 10 20\n",
            "after swap 20 10\n"
          ],
          "name": "stdout"
        }
      ]
    },
    {
      "cell_type": "code",
      "metadata": {
        "id": "dWiIA_iGUHsY",
        "colab_type": "code",
        "colab": {
          "base_uri": "https://localhost:8080/",
          "height": 51
        },
        "outputId": "f61b2b78-4233-440d-d5b3-d93ccb3e8b71"
      },
      "source": [
        "\"\"\"Write a program to swap two numbers in Python without using a temporary variable\"\"\"\n",
        "a=10\n",
        "b=20\n",
        "print(\"before swap\",a,b)\n",
        "a=a+b\n",
        "b=a-b\n",
        "a=a-b\n",
        "print(\"after swap\",a,b)"
      ],
      "execution_count": 22,
      "outputs": [
        {
          "output_type": "stream",
          "text": [
            "before swap 10 20\n",
            "after swap 20 10\n"
          ],
          "name": "stdout"
        }
      ]
    },
    {
      "cell_type": "code",
      "metadata": {
        "id": "KJ_-CUwEUwYb",
        "colab_type": "code",
        "colab": {
          "base_uri": "https://localhost:8080/",
          "height": 51
        },
        "outputId": "fde8799e-ceaf-4f25-f7e2-0d943f1224fc"
      },
      "source": [
        "\"\"\"Write a program to convert fahrenheit to kelvin and celsius both\"\"\"\n",
        "fahrenheit=100\n",
        "kelvin=(fahrenheit-32)*5/9+273.15\n",
        "celsius=(fahrenheit-32)*5/9\n",
        "print(\"In K\",kelvin)\n",
        "print(\"In C\",celsius)"
      ],
      "execution_count": 23,
      "outputs": [
        {
          "output_type": "stream",
          "text": [
            "In K 310.92777777777775\n",
            "In C 37.77777777777778\n"
          ],
          "name": "stdout"
        }
      ]
    },
    {
      "cell_type": "code",
      "metadata": {
        "id": "Hh5CcmJTXOGv",
        "colab_type": "code",
        "colab": {
          "base_uri": "https://localhost:8080/",
          "height": 136
        },
        "outputId": "1beaa416-c72e-4143-c42c-49b9447fcb10"
      },
      "source": [
        "\"\"\"Write a program to demonstrate all the available data types in Python. Hint: Use type() function\"\"\"\n",
        "a=10\n",
        "print(type(a))\n",
        "b=2.88\n",
        "print(type(b))\n",
        "c=\"xyz\"\n",
        "print(type(c))\n",
        "d=2+4j\n",
        "print(type(d))\n",
        "e=[1,2,2]\n",
        "print(type(e))\n",
        "f=(1,45,6)\n",
        "print(type(f))\n",
        "g={10,23,33}\n",
        "print(type(g))"
      ],
      "execution_count": 27,
      "outputs": [
        {
          "output_type": "stream",
          "text": [
            "<class 'int'>\n",
            "<class 'float'>\n",
            "<class 'str'>\n",
            "<class 'complex'>\n",
            "<class 'list'>\n",
            "<class 'tuple'>\n",
            "<class 'set'>\n"
          ],
          "name": "stdout"
        }
      ]
    },
    {
      "cell_type": "markdown",
      "metadata": {
        "id": "5jrabR23nY9X",
        "colab_type": "text"
      },
      "source": [
        "Create a Markdown cell in jupyter and list the steps discussed in the session by Dr. Darshan\n",
        "Ingle sir to create Github profile and upload Githubs Assignment link.\n",
        "\n",
        "Step1: create account in Github\n",
        "Step2: Enter your profile \n",
        "Step3: To upload your files,Click on dropdown box at top of right bar select new repository\n",
        "step4:Name repository name LetsUpgradeAI/ML\n",
        "step5: Description text is optional\n",
        "step6:kept in public\n",
        "step7:Click on create repository\n",
        "step8:upload your file \n",
        "step9:sumbit"
      ]
    }
  ]
}