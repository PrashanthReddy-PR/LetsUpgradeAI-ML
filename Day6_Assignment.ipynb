{
  "nbformat": 4,
  "nbformat_minor": 0,
  "metadata": {
    "colab": {
      "name": "Day6_Assignment.ipynb",
      "provenance": [],
      "collapsed_sections": []
    },
    "kernelspec": {
      "name": "python3",
      "display_name": "Python 3"
    }
  },
  "cells": [
    {
      "cell_type": "code",
      "metadata": {
        "id": "_eXGR6kVMdiB",
        "colab_type": "code",
        "colab": {
          "base_uri": "https://localhost:8080/",
          "height": 34
        },
        "outputId": "ba0dbaef-a824-4b73-c498-9ed69b7fbd3b"
      },
      "source": [
        "'''Assuming that we have some email addresses in the \"username@companyname.com\" format, please write program\n",
        "to print the company name of a given email address. Both user names and company names are composed of letters\n",
        "only.'''\n",
        "s='prashanth@google.com'\n",
        "name = s.index(\"@\")\n",
        "s_id = s[:name]\n",
        "print(s_id)"
      ],
      "execution_count": 18,
      "outputs": [
        {
          "output_type": "stream",
          "text": [
            "prashanth\n"
          ],
          "name": "stdout"
        }
      ]
    },
    {
      "cell_type": "code",
      "metadata": {
        "id": "Li1ytN7BRy4e",
        "colab_type": "code",
        "colab": {
          "base_uri": "https://localhost:8080/",
          "height": 34
        },
        "outputId": "c330e39d-ae94-45ed-8333-2053083cc795"
      },
      "source": [
        "'''Write a program that accepts a comma-separated sequence of words as input and prints the words in a comma\n",
        "separated sequence after sorting them alphabetically.'''\n",
        "a = ('without','hello','bag','world')\n",
        "x = sorted(a)\n",
        "print(x)"
      ],
      "execution_count": 19,
      "outputs": [
        {
          "output_type": "stream",
          "text": [
            "['bag', 'hello', 'without', 'world']\n"
          ],
          "name": "stdout"
        }
      ]
    },
    {
      "cell_type": "code",
      "metadata": {
        "id": "4AYk5A-ZXUNp",
        "colab_type": "code",
        "colab": {
          "base_uri": "https://localhost:8080/",
          "height": 34
        },
        "outputId": "c7e9c51b-fd3e-49bb-dd07-177426a4fef7"
      },
      "source": [
        "'''Given a list of n-1 numbers ranging from 1 to n, your task is to find the missing number. There are no duplicates'''\n",
        "def MissingNo(a): \n",
        "    n = len(a) \n",
        "    total = (n + 1)*(n + 2)/2\n",
        "    sum_of_A = sum(a) \n",
        "    return total - sum_of_A \n",
        "a = [1, 2, 4, 6, 3, 7, 8]  \n",
        "miss = MissingNo(a) \n",
        "print(miss) "
      ],
      "execution_count": 27,
      "outputs": [
        {
          "output_type": "stream",
          "text": [
            "5.0\n"
          ],
          "name": "stdout"
        }
      ]
    },
    {
      "cell_type": "code",
      "metadata": {
        "id": "SZytVAJJaZaW",
        "colab_type": "code",
        "colab": {
          "base_uri": "https://localhost:8080/",
          "height": 34
        },
        "outputId": "4bcc83eb-c868-4055-c8ad-5e3072fadf52"
      },
      "source": [
        "'''With a given list L, write a program to print this list L after removing all duplicate values with original order reserved'''\n",
        "def Remove(dup): \n",
        "\tf_list = [] \n",
        "\tfor num in dup: \n",
        "\t\tif num not in f_list: \n",
        "\t\t\tf_list.append(num) \n",
        "\treturn f_list \n",
        "\t\n",
        "dup = [12, 24, 35, 24, 88, 120, 155, 88, 120, 155] \n",
        "print(Remove(dup)) \n"
      ],
      "execution_count": 29,
      "outputs": [
        {
          "output_type": "stream",
          "text": [
            "[12, 24, 35, 88, 120, 155]\n"
          ],
          "name": "stdout"
        }
      ]
    },
    {
      "cell_type": "markdown",
      "metadata": {
        "id": "zgzKpYGXgtKY",
        "colab_type": "text"
      },
      "source": [
        "Create your own Jupyter Notebook for Sets\n",
        "Am using google colab "
      ]
    }
  ]
}