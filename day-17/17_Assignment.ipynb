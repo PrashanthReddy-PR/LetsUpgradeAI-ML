{
  "nbformat": 4,
  "nbformat_minor": 0,
  "metadata": {
    "colab": {
      "name": "17_Assignment.ipynb",
      "provenance": [],
      "collapsed_sections": []
    },
    "kernelspec": {
      "name": "python3",
      "display_name": "Python 3"
    }
  },
  "cells": [
    {
      "cell_type": "code",
      "metadata": {
        "id": "sXzB5di7lfHn",
        "colab_type": "code",
        "colab": {}
      },
      "source": [
        "!pip install -U -q PyDrive\n",
        "from pydrive.auth import GoogleAuth\n",
        "from pydrive.drive import GoogleDrive\n",
        "from google.colab import auth\n",
        "from oauth2client.client import GoogleCredentials"
      ],
      "execution_count": 1,
      "outputs": []
    },
    {
      "cell_type": "code",
      "metadata": {
        "id": "Q9eH4mUCloKt",
        "colab_type": "code",
        "colab": {}
      },
      "source": [
        "auth.authenticate_user()\n",
        "gauth = GoogleAuth()\n",
        "gauth.credentials = GoogleCredentials.get_application_default()\n",
        "drive = GoogleDrive(gauth)"
      ],
      "execution_count": 3,
      "outputs": []
    },
    {
      "cell_type": "code",
      "metadata": {
        "id": "NHRPGHhFmZuR",
        "colab_type": "code",
        "colab": {}
      },
      "source": [
        "downloaded = drive.CreateFile({'id':'1ksi366OOgzLWB_P_0_fioCjGW8ml5HoP'})\n",
        "downloaded.GetContentFile('titles.csv') "
      ],
      "execution_count": 4,
      "outputs": []
    },
    {
      "cell_type": "markdown",
      "metadata": {
        "id": "akiZbW0GnbYd",
        "colab_type": "text"
      },
      "source": [
        "**importing libraries**"
      ]
    },
    {
      "cell_type": "code",
      "metadata": {
        "id": "m2PDqK2TngkB",
        "colab_type": "code",
        "colab": {
          "base_uri": "https://localhost:8080/",
          "height": 74
        },
        "outputId": "30402e6a-5480-4bd7-9fc4-2df1cb1dc371"
      },
      "source": [
        "import numpy as np\n",
        "import pandas as pd \n",
        "import matplotlib.pyplot as plt\n",
        "%matplotlib inline\n",
        "import seaborn as sns\n",
        "from warnings import filterwarnings\n",
        "filterwarnings('ignore')"
      ],
      "execution_count": 5,
      "outputs": [
        {
          "output_type": "stream",
          "text": [
            "/usr/local/lib/python3.6/dist-packages/statsmodels/tools/_testing.py:19: FutureWarning: pandas.util.testing is deprecated. Use the functions in the public API at pandas.testing instead.\n",
            "  import pandas.util.testing as tm\n"
          ],
          "name": "stderr"
        }
      ]
    },
    {
      "cell_type": "markdown",
      "metadata": {
        "id": "8sB9SBz2nrLB",
        "colab_type": "text"
      },
      "source": [
        "**Loading Datasets**"
      ]
    },
    {
      "cell_type": "code",
      "metadata": {
        "id": "OssTSKSpntsE",
        "colab_type": "code",
        "colab": {
          "base_uri": "https://localhost:8080/",
          "height": 198
        },
        "outputId": "6cbbe52d-7432-4b73-8403-72f8a222f8b1"
      },
      "source": [
        "df = pd.read_csv('titles.csv')\n",
        "df.head()"
      ],
      "execution_count": 7,
      "outputs": [
        {
          "output_type": "execute_result",
          "data": {
            "text/html": [
              "<div>\n",
              "<style scoped>\n",
              "    .dataframe tbody tr th:only-of-type {\n",
              "        vertical-align: middle;\n",
              "    }\n",
              "\n",
              "    .dataframe tbody tr th {\n",
              "        vertical-align: top;\n",
              "    }\n",
              "\n",
              "    .dataframe thead th {\n",
              "        text-align: right;\n",
              "    }\n",
              "</style>\n",
              "<table border=\"1\" class=\"dataframe\">\n",
              "  <thead>\n",
              "    <tr style=\"text-align: right;\">\n",
              "      <th></th>\n",
              "      <th>title</th>\n",
              "      <th>year</th>\n",
              "    </tr>\n",
              "  </thead>\n",
              "  <tbody>\n",
              "    <tr>\n",
              "      <th>0</th>\n",
              "      <td>Tasveer Mere Sanam</td>\n",
              "      <td>1996</td>\n",
              "    </tr>\n",
              "    <tr>\n",
              "      <th>1</th>\n",
              "      <td>Only You</td>\n",
              "      <td>1994</td>\n",
              "    </tr>\n",
              "    <tr>\n",
              "      <th>2</th>\n",
              "      <td>El pueblo del terror</td>\n",
              "      <td>1970</td>\n",
              "    </tr>\n",
              "    <tr>\n",
              "      <th>3</th>\n",
              "      <td>Machine</td>\n",
              "      <td>2007</td>\n",
              "    </tr>\n",
              "    <tr>\n",
              "      <th>4</th>\n",
              "      <td>MARy</td>\n",
              "      <td>2008</td>\n",
              "    </tr>\n",
              "  </tbody>\n",
              "</table>\n",
              "</div>"
            ],
            "text/plain": [
              "                  title  year\n",
              "0    Tasveer Mere Sanam  1996\n",
              "1              Only You  1994\n",
              "2  El pueblo del terror  1970\n",
              "3               Machine  2007\n",
              "4                  MARy  2008"
            ]
          },
          "metadata": {
            "tags": []
          },
          "execution_count": 7
        }
      ]
    },
    {
      "cell_type": "code",
      "metadata": {
        "id": "V-oC_2IMohWW",
        "colab_type": "code",
        "colab": {
          "base_uri": "https://localhost:8080/",
          "height": 35
        },
        "outputId": "591c9e01-c6df-4694-c87f-4d399d9766f1"
      },
      "source": [
        "print(\"Shape of Title.csv Dataset:\",df.shape)"
      ],
      "execution_count": 8,
      "outputs": [
        {
          "output_type": "stream",
          "text": [
            "Shape of Title.csv Dataset: (244914, 2)\n"
          ],
          "name": "stdout"
        }
      ]
    },
    {
      "cell_type": "code",
      "metadata": {
        "id": "-Zr9WnTFoBrS",
        "colab_type": "code",
        "colab": {}
      },
      "source": [
        "downloaded = drive.CreateFile({'id':'1b_aczX4naWHkCihcGSDPEUE1J1Sm7qtb'})\n",
        "downloaded.GetContentFile('cast.csv') "
      ],
      "execution_count": 9,
      "outputs": []
    },
    {
      "cell_type": "code",
      "metadata": {
        "id": "V7LmHF2jotsf",
        "colab_type": "code",
        "colab": {
          "base_uri": "https://localhost:8080/",
          "height": 198
        },
        "outputId": "4c4b114f-b399-4578-e4fb-93bc359f3ba2"
      },
      "source": [
        "df1 = pd.read_csv('cast.csv')\n",
        "df1.head()"
      ],
      "execution_count": 10,
      "outputs": [
        {
          "output_type": "execute_result",
          "data": {
            "text/html": [
              "<div>\n",
              "<style scoped>\n",
              "    .dataframe tbody tr th:only-of-type {\n",
              "        vertical-align: middle;\n",
              "    }\n",
              "\n",
              "    .dataframe tbody tr th {\n",
              "        vertical-align: top;\n",
              "    }\n",
              "\n",
              "    .dataframe thead th {\n",
              "        text-align: right;\n",
              "    }\n",
              "</style>\n",
              "<table border=\"1\" class=\"dataframe\">\n",
              "  <thead>\n",
              "    <tr style=\"text-align: right;\">\n",
              "      <th></th>\n",
              "      <th>title</th>\n",
              "      <th>year</th>\n",
              "      <th>name</th>\n",
              "      <th>type</th>\n",
              "      <th>character</th>\n",
              "      <th>n</th>\n",
              "    </tr>\n",
              "  </thead>\n",
              "  <tbody>\n",
              "    <tr>\n",
              "      <th>0</th>\n",
              "      <td>Closet Monster</td>\n",
              "      <td>2015</td>\n",
              "      <td>Buffy #1</td>\n",
              "      <td>actor</td>\n",
              "      <td>Buffy 4</td>\n",
              "      <td>31.0</td>\n",
              "    </tr>\n",
              "    <tr>\n",
              "      <th>1</th>\n",
              "      <td>Suuri illusioni</td>\n",
              "      <td>1985</td>\n",
              "      <td>Homo $</td>\n",
              "      <td>actor</td>\n",
              "      <td>Guests</td>\n",
              "      <td>22.0</td>\n",
              "    </tr>\n",
              "    <tr>\n",
              "      <th>2</th>\n",
              "      <td>Battle of the Sexes</td>\n",
              "      <td>2017</td>\n",
              "      <td>$hutter</td>\n",
              "      <td>actor</td>\n",
              "      <td>Bobby Riggs Fan</td>\n",
              "      <td>10.0</td>\n",
              "    </tr>\n",
              "    <tr>\n",
              "      <th>3</th>\n",
              "      <td>Secret in Their Eyes</td>\n",
              "      <td>2015</td>\n",
              "      <td>$hutter</td>\n",
              "      <td>actor</td>\n",
              "      <td>2002 Dodger Fan</td>\n",
              "      <td>NaN</td>\n",
              "    </tr>\n",
              "    <tr>\n",
              "      <th>4</th>\n",
              "      <td>Steve Jobs</td>\n",
              "      <td>2015</td>\n",
              "      <td>$hutter</td>\n",
              "      <td>actor</td>\n",
              "      <td>1988 Opera House Patron</td>\n",
              "      <td>NaN</td>\n",
              "    </tr>\n",
              "  </tbody>\n",
              "</table>\n",
              "</div>"
            ],
            "text/plain": [
              "                  title  year      name   type                character     n\n",
              "0        Closet Monster  2015  Buffy #1  actor                  Buffy 4  31.0\n",
              "1       Suuri illusioni  1985    Homo $  actor                   Guests  22.0\n",
              "2   Battle of the Sexes  2017   $hutter  actor          Bobby Riggs Fan  10.0\n",
              "3  Secret in Their Eyes  2015   $hutter  actor          2002 Dodger Fan   NaN\n",
              "4            Steve Jobs  2015   $hutter  actor  1988 Opera House Patron   NaN"
            ]
          },
          "metadata": {
            "tags": []
          },
          "execution_count": 10
        }
      ]
    },
    {
      "cell_type": "code",
      "metadata": {
        "id": "2KslG_8SoyYQ",
        "colab_type": "code",
        "colab": {
          "base_uri": "https://localhost:8080/",
          "height": 35
        },
        "outputId": "a31030d4-0b78-4a22-caeb-b42e94e62b4d"
      },
      "source": [
        "print(\"Shape of Cast.csv Dataset:\", df1.shape)"
      ],
      "execution_count": 11,
      "outputs": [
        {
          "output_type": "stream",
          "text": [
            "Shape of Cast.csv Dataset: (3786176, 6)\n"
          ],
          "name": "stdout"
        }
      ]
    },
    {
      "cell_type": "markdown",
      "metadata": {
        "id": "waXda-9CpgIW",
        "colab_type": "text"
      },
      "source": [
        "**1. How many movies are listed in the titles dataframe?**"
      ]
    },
    {
      "cell_type": "code",
      "metadata": {
        "id": "NIPDeY9ipWzf",
        "colab_type": "code",
        "colab": {
          "base_uri": "https://localhost:8080/",
          "height": 35
        },
        "outputId": "1af769d8-1bce-47f8-dd06-6f7aed230223"
      },
      "source": [
        "len(df)"
      ],
      "execution_count": 12,
      "outputs": [
        {
          "output_type": "execute_result",
          "data": {
            "text/plain": [
              "244914"
            ]
          },
          "metadata": {
            "tags": []
          },
          "execution_count": 12
        }
      ]
    },
    {
      "cell_type": "markdown",
      "metadata": {
        "id": "9SHAdn8Opm6t",
        "colab_type": "text"
      },
      "source": [
        "\n",
        "2. What are the earliest two films listed in the titles dataframe? **bold text**"
      ]
    },
    {
      "cell_type": "code",
      "metadata": {
        "id": "9Uel33_6psML",
        "colab_type": "code",
        "colab": {
          "base_uri": "https://localhost:8080/",
          "height": 108
        },
        "outputId": "245b48e7-3c5e-49b1-854e-0e10cc14251d"
      },
      "source": [
        "df.sort_values('year').head(2)"
      ],
      "execution_count": 13,
      "outputs": [
        {
          "output_type": "execute_result",
          "data": {
            "text/html": [
              "<div>\n",
              "<style scoped>\n",
              "    .dataframe tbody tr th:only-of-type {\n",
              "        vertical-align: middle;\n",
              "    }\n",
              "\n",
              "    .dataframe tbody tr th {\n",
              "        vertical-align: top;\n",
              "    }\n",
              "\n",
              "    .dataframe thead th {\n",
              "        text-align: right;\n",
              "    }\n",
              "</style>\n",
              "<table border=\"1\" class=\"dataframe\">\n",
              "  <thead>\n",
              "    <tr style=\"text-align: right;\">\n",
              "      <th></th>\n",
              "      <th>title</th>\n",
              "      <th>year</th>\n",
              "    </tr>\n",
              "  </thead>\n",
              "  <tbody>\n",
              "    <tr>\n",
              "      <th>193222</th>\n",
              "      <td>Miss Jerry</td>\n",
              "      <td>1894</td>\n",
              "    </tr>\n",
              "    <tr>\n",
              "      <th>51388</th>\n",
              "      <td>The Startled Lover</td>\n",
              "      <td>1898</td>\n",
              "    </tr>\n",
              "  </tbody>\n",
              "</table>\n",
              "</div>"
            ],
            "text/plain": [
              "                     title  year\n",
              "193222          Miss Jerry  1894\n",
              "51388   The Startled Lover  1898"
            ]
          },
          "metadata": {
            "tags": []
          },
          "execution_count": 13
        }
      ]
    },
    {
      "cell_type": "markdown",
      "metadata": {
        "id": "KHp3KxZXpzUf",
        "colab_type": "text"
      },
      "source": [
        "\n",
        "**3. How many movies have the title \"Hamlet\"?**"
      ]
    },
    {
      "cell_type": "code",
      "metadata": {
        "id": "auC0Tjuyp8to",
        "colab_type": "code",
        "colab": {
          "base_uri": "https://localhost:8080/",
          "height": 35
        },
        "outputId": "4471e7f4-58f5-4ebb-ffcc-54693a40b37f"
      },
      "source": [
        "len(df[df.title == 'Hamlet'])"
      ],
      "execution_count": 14,
      "outputs": [
        {
          "output_type": "execute_result",
          "data": {
            "text/plain": [
              "20"
            ]
          },
          "metadata": {
            "tags": []
          },
          "execution_count": 14
        }
      ]
    },
    {
      "cell_type": "markdown",
      "metadata": {
        "id": "n5kPzDo3qCS9",
        "colab_type": "text"
      },
      "source": [
        "**4. How many movies are titled \"North by Northwest\"?**"
      ]
    },
    {
      "cell_type": "code",
      "metadata": {
        "id": "rrV21Lk5qN9B",
        "colab_type": "code",
        "colab": {
          "base_uri": "https://localhost:8080/",
          "height": 35
        },
        "outputId": "47093bba-3bc3-4e42-bb5c-4a6e44dbd899"
      },
      "source": [
        "len(df[df.title == 'North by Northwest'])"
      ],
      "execution_count": 15,
      "outputs": [
        {
          "output_type": "execute_result",
          "data": {
            "text/plain": [
              "1"
            ]
          },
          "metadata": {
            "tags": []
          },
          "execution_count": 15
        }
      ]
    },
    {
      "cell_type": "markdown",
      "metadata": {
        "id": "D0dnfBNsqURc",
        "colab_type": "text"
      },
      "source": [
        "**5. When was the first movie titled \"Hamlet\" made?**"
      ]
    },
    {
      "cell_type": "code",
      "metadata": {
        "id": "AflVG0vIqZnY",
        "colab_type": "code",
        "colab": {
          "base_uri": "https://localhost:8080/",
          "height": 78
        },
        "outputId": "4a6dd167-8f72-4c36-880f-ba68696459b5"
      },
      "source": [
        "df[df.title == 'Hamlet'].sort_values('year').head(1)"
      ],
      "execution_count": 16,
      "outputs": [
        {
          "output_type": "execute_result",
          "data": {
            "text/html": [
              "<div>\n",
              "<style scoped>\n",
              "    .dataframe tbody tr th:only-of-type {\n",
              "        vertical-align: middle;\n",
              "    }\n",
              "\n",
              "    .dataframe tbody tr th {\n",
              "        vertical-align: top;\n",
              "    }\n",
              "\n",
              "    .dataframe thead th {\n",
              "        text-align: right;\n",
              "    }\n",
              "</style>\n",
              "<table border=\"1\" class=\"dataframe\">\n",
              "  <thead>\n",
              "    <tr style=\"text-align: right;\">\n",
              "      <th></th>\n",
              "      <th>title</th>\n",
              "      <th>year</th>\n",
              "    </tr>\n",
              "  </thead>\n",
              "  <tbody>\n",
              "    <tr>\n",
              "      <th>52521</th>\n",
              "      <td>Hamlet</td>\n",
              "      <td>1910</td>\n",
              "    </tr>\n",
              "  </tbody>\n",
              "</table>\n",
              "</div>"
            ],
            "text/plain": [
              "        title  year\n",
              "52521  Hamlet  1910"
            ]
          },
          "metadata": {
            "tags": []
          },
          "execution_count": 16
        }
      ]
    },
    {
      "cell_type": "markdown",
      "metadata": {
        "id": "ai9XAGfNqhVE",
        "colab_type": "text"
      },
      "source": [
        "**6. List all of the \"Treasure Island\" movies from earliest to most recent.**"
      ]
    },
    {
      "cell_type": "code",
      "metadata": {
        "id": "SkRArHKpqt3I",
        "colab_type": "code",
        "colab": {
          "base_uri": "https://localhost:8080/",
          "height": 288
        },
        "outputId": "49af7109-67e0-437b-9acc-a99c4a9101d9"
      },
      "source": [
        "df[df.title == 'Treasure Island'].sort_values('year')"
      ],
      "execution_count": 17,
      "outputs": [
        {
          "output_type": "execute_result",
          "data": {
            "text/html": [
              "<div>\n",
              "<style scoped>\n",
              "    .dataframe tbody tr th:only-of-type {\n",
              "        vertical-align: middle;\n",
              "    }\n",
              "\n",
              "    .dataframe tbody tr th {\n",
              "        vertical-align: top;\n",
              "    }\n",
              "\n",
              "    .dataframe thead th {\n",
              "        text-align: right;\n",
              "    }\n",
              "</style>\n",
              "<table border=\"1\" class=\"dataframe\">\n",
              "  <thead>\n",
              "    <tr style=\"text-align: right;\">\n",
              "      <th></th>\n",
              "      <th>title</th>\n",
              "      <th>year</th>\n",
              "    </tr>\n",
              "  </thead>\n",
              "  <tbody>\n",
              "    <tr>\n",
              "      <th>55686</th>\n",
              "      <td>Treasure Island</td>\n",
              "      <td>1918</td>\n",
              "    </tr>\n",
              "    <tr>\n",
              "      <th>196514</th>\n",
              "      <td>Treasure Island</td>\n",
              "      <td>1920</td>\n",
              "    </tr>\n",
              "    <tr>\n",
              "      <th>141822</th>\n",
              "      <td>Treasure Island</td>\n",
              "      <td>1934</td>\n",
              "    </tr>\n",
              "    <tr>\n",
              "      <th>77354</th>\n",
              "      <td>Treasure Island</td>\n",
              "      <td>1950</td>\n",
              "    </tr>\n",
              "    <tr>\n",
              "      <th>65051</th>\n",
              "      <td>Treasure Island</td>\n",
              "      <td>1972</td>\n",
              "    </tr>\n",
              "    <tr>\n",
              "      <th>37238</th>\n",
              "      <td>Treasure Island</td>\n",
              "      <td>1973</td>\n",
              "    </tr>\n",
              "    <tr>\n",
              "      <th>173051</th>\n",
              "      <td>Treasure Island</td>\n",
              "      <td>1985</td>\n",
              "    </tr>\n",
              "    <tr>\n",
              "      <th>27076</th>\n",
              "      <td>Treasure Island</td>\n",
              "      <td>1999</td>\n",
              "    </tr>\n",
              "  </tbody>\n",
              "</table>\n",
              "</div>"
            ],
            "text/plain": [
              "                  title  year\n",
              "55686   Treasure Island  1918\n",
              "196514  Treasure Island  1920\n",
              "141822  Treasure Island  1934\n",
              "77354   Treasure Island  1950\n",
              "65051   Treasure Island  1972\n",
              "37238   Treasure Island  1973\n",
              "173051  Treasure Island  1985\n",
              "27076   Treasure Island  1999"
            ]
          },
          "metadata": {
            "tags": []
          },
          "execution_count": 17
        }
      ]
    },
    {
      "cell_type": "markdown",
      "metadata": {
        "id": "UmN7p75cq4yM",
        "colab_type": "text"
      },
      "source": [
        "**7. How many movies were made in the year 1950?**"
      ]
    },
    {
      "cell_type": "code",
      "metadata": {
        "id": "I815xcPkq_dz",
        "colab_type": "code",
        "colab": {
          "base_uri": "https://localhost:8080/",
          "height": 35
        },
        "outputId": "699344d1-5b85-4e75-c65a-f1d745734f14"
      },
      "source": [
        "len(df[df.year == 1950])"
      ],
      "execution_count": 18,
      "outputs": [
        {
          "output_type": "execute_result",
          "data": {
            "text/plain": [
              "1113"
            ]
          },
          "metadata": {
            "tags": []
          },
          "execution_count": 18
        }
      ]
    },
    {
      "cell_type": "markdown",
      "metadata": {
        "id": "Lm_fxQLDrEgD",
        "colab_type": "text"
      },
      "source": [
        "**8. How many movies were made in the year 1960?**"
      ]
    },
    {
      "cell_type": "code",
      "metadata": {
        "id": "atc7RKjcrL7i",
        "colab_type": "code",
        "colab": {
          "base_uri": "https://localhost:8080/",
          "height": 35
        },
        "outputId": "69336091-85fe-4344-f780-684a470f5327"
      },
      "source": [
        "len(df[df.year == 1960])"
      ],
      "execution_count": 19,
      "outputs": [
        {
          "output_type": "execute_result",
          "data": {
            "text/plain": [
              "1549"
            ]
          },
          "metadata": {
            "tags": []
          },
          "execution_count": 19
        }
      ]
    },
    {
      "cell_type": "markdown",
      "metadata": {
        "id": "sIzEmICXrRe_",
        "colab_type": "text"
      },
      "source": [
        "**9. How many movies were made from 1950 through 1959?**"
      ]
    },
    {
      "cell_type": "code",
      "metadata": {
        "id": "F8x6C_NXrZk_",
        "colab_type": "code",
        "colab": {
          "base_uri": "https://localhost:8080/",
          "height": 35
        },
        "outputId": "c0040a8a-592b-430c-9d29-7fec21f56ac5"
      },
      "source": [
        "df[ (df['year'] >=1950) & (df['year']<=1959) ].shape[0]"
      ],
      "execution_count": 20,
      "outputs": [
        {
          "output_type": "execute_result",
          "data": {
            "text/plain": [
              "12934"
            ]
          },
          "metadata": {
            "tags": []
          },
          "execution_count": 20
        }
      ]
    },
    {
      "cell_type": "markdown",
      "metadata": {
        "id": "_jlEWVVfresp",
        "colab_type": "text"
      },
      "source": [
        "**10. In what years has a movie titled \"Batman\" been released?**"
      ]
    },
    {
      "cell_type": "code",
      "metadata": {
        "id": "jJgDXCMgrltv",
        "colab_type": "code",
        "colab": {
          "base_uri": "https://localhost:8080/",
          "height": 108
        },
        "outputId": "3c2ed25d-37f2-43e6-8f5e-09841d5253a2"
      },
      "source": [
        "df[df.title == 'Batman']"
      ],
      "execution_count": 21,
      "outputs": [
        {
          "output_type": "execute_result",
          "data": {
            "text/html": [
              "<div>\n",
              "<style scoped>\n",
              "    .dataframe tbody tr th:only-of-type {\n",
              "        vertical-align: middle;\n",
              "    }\n",
              "\n",
              "    .dataframe tbody tr th {\n",
              "        vertical-align: top;\n",
              "    }\n",
              "\n",
              "    .dataframe thead th {\n",
              "        text-align: right;\n",
              "    }\n",
              "</style>\n",
              "<table border=\"1\" class=\"dataframe\">\n",
              "  <thead>\n",
              "    <tr style=\"text-align: right;\">\n",
              "      <th></th>\n",
              "      <th>title</th>\n",
              "      <th>year</th>\n",
              "    </tr>\n",
              "  </thead>\n",
              "  <tbody>\n",
              "    <tr>\n",
              "      <th>39349</th>\n",
              "      <td>Batman</td>\n",
              "      <td>1943</td>\n",
              "    </tr>\n",
              "    <tr>\n",
              "      <th>240896</th>\n",
              "      <td>Batman</td>\n",
              "      <td>1989</td>\n",
              "    </tr>\n",
              "  </tbody>\n",
              "</table>\n",
              "</div>"
            ],
            "text/plain": [
              "         title  year\n",
              "39349   Batman  1943\n",
              "240896  Batman  1989"
            ]
          },
          "metadata": {
            "tags": []
          },
          "execution_count": 21
        }
      ]
    },
    {
      "cell_type": "markdown",
      "metadata": {
        "id": "ErxI5Apzrqvk",
        "colab_type": "text"
      },
      "source": [
        "**11. How many roles were there in the movie \"Inception\"?**"
      ]
    },
    {
      "cell_type": "code",
      "metadata": {
        "id": "m_yzRlI2rwpu",
        "colab_type": "code",
        "colab": {
          "base_uri": "https://localhost:8080/",
          "height": 54
        },
        "outputId": "5ef57f06-2af6-408c-f69b-f148b1e6ef37"
      },
      "source": [
        "inception = df1[df1.title == 'Inception']\n",
        "print('Total Number of Roles in Movie Inception:', len(inception))\n",
        "print('Unique Roles in Movie Inception:', len(inception.character.unique()))"
      ],
      "execution_count": 22,
      "outputs": [
        {
          "output_type": "stream",
          "text": [
            "Total Number of Roles in Movie Inception: 78\n",
            "Unique Roles in Movie Inception: 56\n"
          ],
          "name": "stdout"
        }
      ]
    },
    {
      "cell_type": "markdown",
      "metadata": {
        "id": "_KvBo9mIr3Py",
        "colab_type": "text"
      },
      "source": [
        "**12. How many roles in the movie \"Inception\" are NOT ranked by an \"n\" value?**"
      ]
    },
    {
      "cell_type": "code",
      "metadata": {
        "id": "CC2aO8Hnr_a9",
        "colab_type": "code",
        "colab": {
          "base_uri": "https://localhost:8080/",
          "height": 54
        },
        "outputId": "97e1f401-bf77-4308-feb4-40095d9a156a"
      },
      "source": [
        "\n",
        "print('Total Number of Roles that are Not ranked in Movie Inception: ',len(inception[inception['n'].isna()]))\n",
        "print('Unique Roles that are Not ranked in Movie Inception: ', len(inception[inception['n'].isna()].character.unique()))"
      ],
      "execution_count": 24,
      "outputs": [
        {
          "output_type": "stream",
          "text": [
            "Total Number of Roles that are Not ranked in Movie Inception:  27\n",
            "Unique Roles that are Not ranked in Movie Inception:  21\n"
          ],
          "name": "stdout"
        }
      ]
    },
    {
      "cell_type": "markdown",
      "metadata": {
        "id": "YiVl-bDtsJz6",
        "colab_type": "text"
      },
      "source": [
        "**13. But how many roles in the movie \"Inception\" did receive an \"n\" value?**"
      ]
    },
    {
      "cell_type": "code",
      "metadata": {
        "id": "5anIPIehsQ3E",
        "colab_type": "code",
        "colab": {
          "base_uri": "https://localhost:8080/",
          "height": 54
        },
        "outputId": "17e14a12-5205-4239-a4c9-9d1ce8d6f0b7"
      },
      "source": [
        "\n",
        "print('Total Number of Roles that are Not ranked in Movie Inception: ',len(inception[inception['n'].notna()]))\n",
        "print('Unique Roles that are Not ranked in Movie Inception: ', len(inception[inception['n'].notna()].character.unique()))"
      ],
      "execution_count": 25,
      "outputs": [
        {
          "output_type": "stream",
          "text": [
            "Total Number of Roles that are Not ranked in Movie Inception:  51\n",
            "Unique Roles that are Not ranked in Movie Inception:  36\n"
          ],
          "name": "stdout"
        }
      ]
    },
    {
      "cell_type": "markdown",
      "metadata": {
        "id": "xzeMhSXrsWsO",
        "colab_type": "text"
      },
      "source": [
        "**14. Display the cast of \"North by Northwest\" in their correct \"n\"-value order, ignoring roles that did not earn a numeric \"n\" value.**"
      ]
    },
    {
      "cell_type": "code",
      "metadata": {
        "id": "3iPPkmivsbgD",
        "colab_type": "code",
        "colab": {
          "base_uri": "https://localhost:8080/",
          "height": 528
        },
        "outputId": "d9ddef73-7db4-4d66-d6df-93515ac8faf1"
      },
      "source": [
        "not_na = df1[df1.title == 'North by Northwest'].sort_values('n')\n",
        "not_na[not_na['n'].notna()]"
      ],
      "execution_count": 26,
      "outputs": [
        {
          "output_type": "execute_result",
          "data": {
            "text/html": [
              "<div>\n",
              "<style scoped>\n",
              "    .dataframe tbody tr th:only-of-type {\n",
              "        vertical-align: middle;\n",
              "    }\n",
              "\n",
              "    .dataframe tbody tr th {\n",
              "        vertical-align: top;\n",
              "    }\n",
              "\n",
              "    .dataframe thead th {\n",
              "        text-align: right;\n",
              "    }\n",
              "</style>\n",
              "<table border=\"1\" class=\"dataframe\">\n",
              "  <thead>\n",
              "    <tr style=\"text-align: right;\">\n",
              "      <th></th>\n",
              "      <th>title</th>\n",
              "      <th>year</th>\n",
              "      <th>name</th>\n",
              "      <th>type</th>\n",
              "      <th>character</th>\n",
              "      <th>n</th>\n",
              "    </tr>\n",
              "  </thead>\n",
              "  <tbody>\n",
              "    <tr>\n",
              "      <th>871426</th>\n",
              "      <td>North by Northwest</td>\n",
              "      <td>1959</td>\n",
              "      <td>Cary Grant</td>\n",
              "      <td>actor</td>\n",
              "      <td>Roger O. Thornhill</td>\n",
              "      <td>1.0</td>\n",
              "    </tr>\n",
              "    <tr>\n",
              "      <th>3518333</th>\n",
              "      <td>North by Northwest</td>\n",
              "      <td>1959</td>\n",
              "      <td>Eva Marie Saint</td>\n",
              "      <td>actress</td>\n",
              "      <td>Eve Kendall</td>\n",
              "      <td>2.0</td>\n",
              "    </tr>\n",
              "    <tr>\n",
              "      <th>1457165</th>\n",
              "      <td>North by Northwest</td>\n",
              "      <td>1959</td>\n",
              "      <td>James Mason</td>\n",
              "      <td>actor</td>\n",
              "      <td>Phillip Vandamm</td>\n",
              "      <td>3.0</td>\n",
              "    </tr>\n",
              "    <tr>\n",
              "      <th>3157232</th>\n",
              "      <td>North by Northwest</td>\n",
              "      <td>1959</td>\n",
              "      <td>Jessie Royce Landis</td>\n",
              "      <td>actress</td>\n",
              "      <td>Clara Thornhill</td>\n",
              "      <td>4.0</td>\n",
              "    </tr>\n",
              "    <tr>\n",
              "      <th>356707</th>\n",
              "      <td>North by Northwest</td>\n",
              "      <td>1959</td>\n",
              "      <td>Leo G. Carroll</td>\n",
              "      <td>actor</td>\n",
              "      <td>The Professor</td>\n",
              "      <td>5.0</td>\n",
              "    </tr>\n",
              "    <tr>\n",
              "      <th>3048272</th>\n",
              "      <td>North by Northwest</td>\n",
              "      <td>1959</td>\n",
              "      <td>Josephine Hutchinson</td>\n",
              "      <td>actress</td>\n",
              "      <td>Mrs. Townsend</td>\n",
              "      <td>6.0</td>\n",
              "    </tr>\n",
              "    <tr>\n",
              "      <th>1695173</th>\n",
              "      <td>North by Northwest</td>\n",
              "      <td>1959</td>\n",
              "      <td>Philip Ober</td>\n",
              "      <td>actor</td>\n",
              "      <td>Lester Townsend</td>\n",
              "      <td>7.0</td>\n",
              "    </tr>\n",
              "    <tr>\n",
              "      <th>1275337</th>\n",
              "      <td>North by Northwest</td>\n",
              "      <td>1959</td>\n",
              "      <td>Martin Landau</td>\n",
              "      <td>actor</td>\n",
              "      <td>Leonard</td>\n",
              "      <td>8.0</td>\n",
              "    </tr>\n",
              "    <tr>\n",
              "      <th>2447081</th>\n",
              "      <td>North by Northwest</td>\n",
              "      <td>1959</td>\n",
              "      <td>Adam Williams</td>\n",
              "      <td>actor</td>\n",
              "      <td>Valerian</td>\n",
              "      <td>9.0</td>\n",
              "    </tr>\n",
              "    <tr>\n",
              "      <th>1811387</th>\n",
              "      <td>North by Northwest</td>\n",
              "      <td>1959</td>\n",
              "      <td>Edward Platt</td>\n",
              "      <td>actor</td>\n",
              "      <td>Victor Larrabee</td>\n",
              "      <td>10.0</td>\n",
              "    </tr>\n",
              "    <tr>\n",
              "      <th>665768</th>\n",
              "      <td>North by Northwest</td>\n",
              "      <td>1959</td>\n",
              "      <td>Robert Ellenstein</td>\n",
              "      <td>actor</td>\n",
              "      <td>Licht</td>\n",
              "      <td>11.0</td>\n",
              "    </tr>\n",
              "    <tr>\n",
              "      <th>2295714</th>\n",
              "      <td>North by Northwest</td>\n",
              "      <td>1959</td>\n",
              "      <td>Les Tremayne</td>\n",
              "      <td>actor</td>\n",
              "      <td>Auctioneer</td>\n",
              "      <td>12.0</td>\n",
              "    </tr>\n",
              "    <tr>\n",
              "      <th>464736</th>\n",
              "      <td>North by Northwest</td>\n",
              "      <td>1959</td>\n",
              "      <td>Philip Coolidge</td>\n",
              "      <td>actor</td>\n",
              "      <td>Dr. Cross</td>\n",
              "      <td>13.0</td>\n",
              "    </tr>\n",
              "    <tr>\n",
              "      <th>1508344</th>\n",
              "      <td>North by Northwest</td>\n",
              "      <td>1959</td>\n",
              "      <td>Patrick McVey</td>\n",
              "      <td>actor</td>\n",
              "      <td>Sergeant Flamm</td>\n",
              "      <td>14.0</td>\n",
              "    </tr>\n",
              "    <tr>\n",
              "      <th>206471</th>\n",
              "      <td>North by Northwest</td>\n",
              "      <td>1959</td>\n",
              "      <td>Edward Binns</td>\n",
              "      <td>actor</td>\n",
              "      <td>Captain Junket</td>\n",
              "      <td>15.0</td>\n",
              "    </tr>\n",
              "    <tr>\n",
              "      <th>1384780</th>\n",
              "      <td>North by Northwest</td>\n",
              "      <td>1959</td>\n",
              "      <td>Ken Lynch</td>\n",
              "      <td>actor</td>\n",
              "      <td>Charley - Chicago Policeman</td>\n",
              "      <td>16.0</td>\n",
              "    </tr>\n",
              "  </tbody>\n",
              "</table>\n",
              "</div>"
            ],
            "text/plain": [
              "                      title  year  ...                    character     n\n",
              "871426   North by Northwest  1959  ...           Roger O. Thornhill   1.0\n",
              "3518333  North by Northwest  1959  ...                  Eve Kendall   2.0\n",
              "1457165  North by Northwest  1959  ...              Phillip Vandamm   3.0\n",
              "3157232  North by Northwest  1959  ...              Clara Thornhill   4.0\n",
              "356707   North by Northwest  1959  ...                The Professor   5.0\n",
              "3048272  North by Northwest  1959  ...                Mrs. Townsend   6.0\n",
              "1695173  North by Northwest  1959  ...              Lester Townsend   7.0\n",
              "1275337  North by Northwest  1959  ...                      Leonard   8.0\n",
              "2447081  North by Northwest  1959  ...                     Valerian   9.0\n",
              "1811387  North by Northwest  1959  ...              Victor Larrabee  10.0\n",
              "665768   North by Northwest  1959  ...                        Licht  11.0\n",
              "2295714  North by Northwest  1959  ...                   Auctioneer  12.0\n",
              "464736   North by Northwest  1959  ...                    Dr. Cross  13.0\n",
              "1508344  North by Northwest  1959  ...               Sergeant Flamm  14.0\n",
              "206471   North by Northwest  1959  ...               Captain Junket  15.0\n",
              "1384780  North by Northwest  1959  ...  Charley - Chicago Policeman  16.0\n",
              "\n",
              "[16 rows x 6 columns]"
            ]
          },
          "metadata": {
            "tags": []
          },
          "execution_count": 26
        }
      ]
    },
    {
      "cell_type": "markdown",
      "metadata": {
        "id": "62x8EyoCsjFK",
        "colab_type": "text"
      },
      "source": [
        "**15. Display the entire cast, in \"n\"-order, of the 1972 film \"Sleuth\".**"
      ]
    },
    {
      "cell_type": "code",
      "metadata": {
        "id": "eXCSWJ5lsp5K",
        "colab_type": "code",
        "colab": {
          "base_uri": "https://localhost:8080/",
          "height": 228
        },
        "outputId": "3720422f-3d65-4525-d57a-5f059b8c7989"
      },
      "source": [
        "df1[(df1.title == 'Sleuth') & (df1.year == 1972)].sort_values('n')"
      ],
      "execution_count": 27,
      "outputs": [
        {
          "output_type": "execute_result",
          "data": {
            "text/html": [
              "<div>\n",
              "<style scoped>\n",
              "    .dataframe tbody tr th:only-of-type {\n",
              "        vertical-align: middle;\n",
              "    }\n",
              "\n",
              "    .dataframe tbody tr th {\n",
              "        vertical-align: top;\n",
              "    }\n",
              "\n",
              "    .dataframe thead th {\n",
              "        text-align: right;\n",
              "    }\n",
              "</style>\n",
              "<table border=\"1\" class=\"dataframe\">\n",
              "  <thead>\n",
              "    <tr style=\"text-align: right;\">\n",
              "      <th></th>\n",
              "      <th>title</th>\n",
              "      <th>year</th>\n",
              "      <th>name</th>\n",
              "      <th>type</th>\n",
              "      <th>character</th>\n",
              "      <th>n</th>\n",
              "    </tr>\n",
              "  </thead>\n",
              "  <tbody>\n",
              "    <tr>\n",
              "      <th>1705394</th>\n",
              "      <td>Sleuth</td>\n",
              "      <td>1972</td>\n",
              "      <td>Laurence Olivier</td>\n",
              "      <td>actor</td>\n",
              "      <td>Andrew Wyke</td>\n",
              "      <td>1.0</td>\n",
              "    </tr>\n",
              "    <tr>\n",
              "      <th>326773</th>\n",
              "      <td>Sleuth</td>\n",
              "      <td>1972</td>\n",
              "      <td>Michael Caine</td>\n",
              "      <td>actor</td>\n",
              "      <td>Milo Tindle</td>\n",
              "      <td>2.0</td>\n",
              "    </tr>\n",
              "    <tr>\n",
              "      <th>373876</th>\n",
              "      <td>Sleuth</td>\n",
              "      <td>1972</td>\n",
              "      <td>Alec Cawthorne</td>\n",
              "      <td>actor</td>\n",
              "      <td>Inspector Doppler</td>\n",
              "      <td>3.0</td>\n",
              "    </tr>\n",
              "    <tr>\n",
              "      <th>1465483</th>\n",
              "      <td>Sleuth</td>\n",
              "      <td>1972</td>\n",
              "      <td>John (II) Matthews</td>\n",
              "      <td>actor</td>\n",
              "      <td>Detective Sergeant Tarrant</td>\n",
              "      <td>4.0</td>\n",
              "    </tr>\n",
              "    <tr>\n",
              "      <th>2724553</th>\n",
              "      <td>Sleuth</td>\n",
              "      <td>1972</td>\n",
              "      <td>Eve (III) Channing</td>\n",
              "      <td>actress</td>\n",
              "      <td>Marguerite Wyke</td>\n",
              "      <td>5.0</td>\n",
              "    </tr>\n",
              "    <tr>\n",
              "      <th>1448690</th>\n",
              "      <td>Sleuth</td>\n",
              "      <td>1972</td>\n",
              "      <td>Teddy Martin</td>\n",
              "      <td>actor</td>\n",
              "      <td>Police Constable Higgs</td>\n",
              "      <td>6.0</td>\n",
              "    </tr>\n",
              "  </tbody>\n",
              "</table>\n",
              "</div>"
            ],
            "text/plain": [
              "          title  year  ...                   character    n\n",
              "1705394  Sleuth  1972  ...                 Andrew Wyke  1.0\n",
              "326773   Sleuth  1972  ...                 Milo Tindle  2.0\n",
              "373876   Sleuth  1972  ...           Inspector Doppler  3.0\n",
              "1465483  Sleuth  1972  ...  Detective Sergeant Tarrant  4.0\n",
              "2724553  Sleuth  1972  ...             Marguerite Wyke  5.0\n",
              "1448690  Sleuth  1972  ...      Police Constable Higgs  6.0\n",
              "\n",
              "[6 rows x 6 columns]"
            ]
          },
          "metadata": {
            "tags": []
          },
          "execution_count": 27
        }
      ]
    },
    {
      "cell_type": "markdown",
      "metadata": {
        "id": "pOqFy6Gdswa3",
        "colab_type": "text"
      },
      "source": [
        "**16. Now display the entire cast, in \"n\"-order, of the 2007 version of \"Sleuth\".**"
      ]
    },
    {
      "cell_type": "code",
      "metadata": {
        "id": "OJ9mqRDis1Ti",
        "colab_type": "code",
        "colab": {
          "base_uri": "https://localhost:8080/",
          "height": 258
        },
        "outputId": "87f13746-b85f-47e8-9aab-a15252a4988d"
      },
      "source": [
        "df1[(df1.title == 'Sleuth') & (df1.year == 2007)].sort_values('n')"
      ],
      "execution_count": 28,
      "outputs": [
        {
          "output_type": "execute_result",
          "data": {
            "text/html": [
              "<div>\n",
              "<style scoped>\n",
              "    .dataframe tbody tr th:only-of-type {\n",
              "        vertical-align: middle;\n",
              "    }\n",
              "\n",
              "    .dataframe tbody tr th {\n",
              "        vertical-align: top;\n",
              "    }\n",
              "\n",
              "    .dataframe thead th {\n",
              "        text-align: right;\n",
              "    }\n",
              "</style>\n",
              "<table border=\"1\" class=\"dataframe\">\n",
              "  <thead>\n",
              "    <tr style=\"text-align: right;\">\n",
              "      <th></th>\n",
              "      <th>title</th>\n",
              "      <th>year</th>\n",
              "      <th>name</th>\n",
              "      <th>type</th>\n",
              "      <th>character</th>\n",
              "      <th>n</th>\n",
              "    </tr>\n",
              "  </thead>\n",
              "  <tbody>\n",
              "    <tr>\n",
              "      <th>326774</th>\n",
              "      <td>Sleuth</td>\n",
              "      <td>2007</td>\n",
              "      <td>Michael Caine</td>\n",
              "      <td>actor</td>\n",
              "      <td>Andrew</td>\n",
              "      <td>1.0</td>\n",
              "    </tr>\n",
              "    <tr>\n",
              "      <th>1293634</th>\n",
              "      <td>Sleuth</td>\n",
              "      <td>2007</td>\n",
              "      <td>Jude Law</td>\n",
              "      <td>actor</td>\n",
              "      <td>Milo</td>\n",
              "      <td>2.0</td>\n",
              "    </tr>\n",
              "    <tr>\n",
              "      <th>1805907</th>\n",
              "      <td>Sleuth</td>\n",
              "      <td>2007</td>\n",
              "      <td>Harold Pinter</td>\n",
              "      <td>actor</td>\n",
              "      <td>Man on T.V.</td>\n",
              "      <td>3.0</td>\n",
              "    </tr>\n",
              "    <tr>\n",
              "      <th>260242</th>\n",
              "      <td>Sleuth</td>\n",
              "      <td>2007</td>\n",
              "      <td>Kenneth Branagh</td>\n",
              "      <td>actor</td>\n",
              "      <td>Other Man on T.V.</td>\n",
              "      <td>NaN</td>\n",
              "    </tr>\n",
              "    <tr>\n",
              "      <th>373877</th>\n",
              "      <td>Sleuth</td>\n",
              "      <td>2007</td>\n",
              "      <td>Alec (II) Cawthorne</td>\n",
              "      <td>actor</td>\n",
              "      <td>Inspector Doppler</td>\n",
              "      <td>NaN</td>\n",
              "    </tr>\n",
              "    <tr>\n",
              "      <th>2724552</th>\n",
              "      <td>Sleuth</td>\n",
              "      <td>2007</td>\n",
              "      <td>Eve (II) Channing</td>\n",
              "      <td>actress</td>\n",
              "      <td>Marguerite Wyke</td>\n",
              "      <td>NaN</td>\n",
              "    </tr>\n",
              "    <tr>\n",
              "      <th>3370424</th>\n",
              "      <td>Sleuth</td>\n",
              "      <td>2007</td>\n",
              "      <td>Carmel O'Sullivan</td>\n",
              "      <td>actress</td>\n",
              "      <td>Maggie</td>\n",
              "      <td>NaN</td>\n",
              "    </tr>\n",
              "  </tbody>\n",
              "</table>\n",
              "</div>"
            ],
            "text/plain": [
              "          title  year                 name     type          character    n\n",
              "326774   Sleuth  2007        Michael Caine    actor             Andrew  1.0\n",
              "1293634  Sleuth  2007             Jude Law    actor               Milo  2.0\n",
              "1805907  Sleuth  2007        Harold Pinter    actor        Man on T.V.  3.0\n",
              "260242   Sleuth  2007      Kenneth Branagh    actor  Other Man on T.V.  NaN\n",
              "373877   Sleuth  2007  Alec (II) Cawthorne    actor  Inspector Doppler  NaN\n",
              "2724552  Sleuth  2007    Eve (II) Channing  actress    Marguerite Wyke  NaN\n",
              "3370424  Sleuth  2007    Carmel O'Sullivan  actress             Maggie  NaN"
            ]
          },
          "metadata": {
            "tags": []
          },
          "execution_count": 28
        }
      ]
    },
    {
      "cell_type": "markdown",
      "metadata": {
        "id": "7VXajxxqs7EB",
        "colab_type": "text"
      },
      "source": [
        "**17. How many roles were credited in the silent 1921 version of Hamlet?**"
      ]
    },
    {
      "cell_type": "code",
      "metadata": {
        "id": "sl8lEI3ZtACT",
        "colab_type": "code",
        "colab": {
          "base_uri": "https://localhost:8080/",
          "height": 35
        },
        "outputId": "51ba1eaa-30b0-4bd9-ef04-c59553f9bc6d"
      },
      "source": [
        "len(df1[(df1.title == 'Hamlet') & (df1.year == 1921)].character)"
      ],
      "execution_count": 29,
      "outputs": [
        {
          "output_type": "execute_result",
          "data": {
            "text/plain": [
              "9"
            ]
          },
          "metadata": {
            "tags": []
          },
          "execution_count": 29
        }
      ]
    },
    {
      "cell_type": "markdown",
      "metadata": {
        "id": "9zyivG8YtHMm",
        "colab_type": "text"
      },
      "source": [
        "**18. How many roles were credited in Branagh’s 1996 Hamlet**"
      ]
    },
    {
      "cell_type": "code",
      "metadata": {
        "id": "BZ5ACAhHtMxj",
        "colab_type": "code",
        "colab": {
          "base_uri": "https://localhost:8080/",
          "height": 35
        },
        "outputId": "fde31901-7a6d-4db4-b85c-de822c04404f"
      },
      "source": [
        "len(df1[(df1.title == 'Hamlet') & (df1.year == 1996)].character)"
      ],
      "execution_count": 30,
      "outputs": [
        {
          "output_type": "execute_result",
          "data": {
            "text/plain": [
              "54"
            ]
          },
          "metadata": {
            "tags": []
          },
          "execution_count": 30
        }
      ]
    },
    {
      "cell_type": "markdown",
      "metadata": {
        "id": "VjTzDxFutS8s",
        "colab_type": "text"
      },
      "source": [
        "**19. How many \"Hamlet\" roles have been listed in all film credits through history?**"
      ]
    },
    {
      "cell_type": "code",
      "metadata": {
        "id": "QL352E_dtXoW",
        "colab_type": "code",
        "colab": {
          "base_uri": "https://localhost:8080/",
          "height": 35
        },
        "outputId": "08b648de-1802-4447-cdae-c23002f81a95"
      },
      "source": [
        "len(df1[df1.character == 'Hamlet'])"
      ],
      "execution_count": 31,
      "outputs": [
        {
          "output_type": "execute_result",
          "data": {
            "text/plain": [
              "96"
            ]
          },
          "metadata": {
            "tags": []
          },
          "execution_count": 31
        }
      ]
    },
    {
      "cell_type": "markdown",
      "metadata": {
        "id": "O7_3-YJ8teTN",
        "colab_type": "text"
      },
      "source": [
        "**20. How many people have played an \"Ophelia\"?**"
      ]
    },
    {
      "cell_type": "code",
      "metadata": {
        "id": "K0ycZVxOtoVj",
        "colab_type": "code",
        "colab": {
          "base_uri": "https://localhost:8080/",
          "height": 35
        },
        "outputId": "5595fb81-6902-401a-b137-b9ff91dc2f30"
      },
      "source": [
        "len(df1[df1.character == 'Ophelia'])"
      ],
      "execution_count": 32,
      "outputs": [
        {
          "output_type": "execute_result",
          "data": {
            "text/plain": [
              "117"
            ]
          },
          "metadata": {
            "tags": []
          },
          "execution_count": 32
        }
      ]
    },
    {
      "cell_type": "markdown",
      "metadata": {
        "id": "6Osbz3jPttTo",
        "colab_type": "text"
      },
      "source": [
        "**21. How many people have played a role called \"The Dude\"?**"
      ]
    },
    {
      "cell_type": "code",
      "metadata": {
        "id": "bBLvqDfLtxXe",
        "colab_type": "code",
        "colab": {
          "base_uri": "https://localhost:8080/",
          "height": 35
        },
        "outputId": "bab0595c-7ea4-404e-e05c-0ebc0b065879"
      },
      "source": [
        "len(df1[df1.character == 'Dude'])"
      ],
      "execution_count": 33,
      "outputs": [
        {
          "output_type": "execute_result",
          "data": {
            "text/plain": [
              "99"
            ]
          },
          "metadata": {
            "tags": []
          },
          "execution_count": 33
        }
      ]
    },
    {
      "cell_type": "markdown",
      "metadata": {
        "id": "Vqe5iSOct752",
        "colab_type": "text"
      },
      "source": [
        "**22. How many people have played a role called \"The Stranger\"?**"
      ]
    },
    {
      "cell_type": "code",
      "metadata": {
        "id": "Nz5vkQB0uAtO",
        "colab_type": "code",
        "colab": {
          "base_uri": "https://localhost:8080/",
          "height": 35
        },
        "outputId": "e2ca26b0-8866-46a3-a12f-15b6e51e3295"
      },
      "source": [
        "len(df1[df1.character == 'Stranger'])"
      ],
      "execution_count": 34,
      "outputs": [
        {
          "output_type": "execute_result",
          "data": {
            "text/plain": [
              "289"
            ]
          },
          "metadata": {
            "tags": []
          },
          "execution_count": 34
        }
      ]
    },
    {
      "cell_type": "markdown",
      "metadata": {
        "id": "xLdM-NSxuKGN",
        "colab_type": "text"
      },
      "source": [
        "**23. How many roles has Sidney Poitier played throughout his career?**"
      ]
    },
    {
      "cell_type": "code",
      "metadata": {
        "id": "IQoWSF-fuN1C",
        "colab_type": "code",
        "colab": {
          "base_uri": "https://localhost:8080/",
          "height": 35
        },
        "outputId": "d6716eb6-d384-4f9e-d36a-67a8ac4513c1"
      },
      "source": [
        "len(df1[df1.name == 'Sidney Poitier'].character)"
      ],
      "execution_count": 35,
      "outputs": [
        {
          "output_type": "execute_result",
          "data": {
            "text/plain": [
              "43"
            ]
          },
          "metadata": {
            "tags": []
          },
          "execution_count": 35
        }
      ]
    },
    {
      "cell_type": "markdown",
      "metadata": {
        "id": "YV1JVwhmuTGa",
        "colab_type": "text"
      },
      "source": [
        "**24. How many roles has Judi Dench played?**"
      ]
    },
    {
      "cell_type": "code",
      "metadata": {
        "id": "LeSU1m8JuXrY",
        "colab_type": "code",
        "colab": {
          "base_uri": "https://localhost:8080/",
          "height": 35
        },
        "outputId": "df5d2f70-3074-4abf-8d0c-28b4521d337e"
      },
      "source": [
        "len(df1[df1.name == 'Judi Dench'].character)"
      ],
      "execution_count": 36,
      "outputs": [
        {
          "output_type": "execute_result",
          "data": {
            "text/plain": [
              "55"
            ]
          },
          "metadata": {
            "tags": []
          },
          "execution_count": 36
        }
      ]
    },
    {
      "cell_type": "markdown",
      "metadata": {
        "id": "UwvaVEchudtV",
        "colab_type": "text"
      },
      "source": [
        "**25. List the supporting roles (having n=2) played by Cary Grant in the 1940s, in order by year.**"
      ]
    },
    {
      "cell_type": "code",
      "metadata": {
        "id": "lDnxid4dumxO",
        "colab_type": "code",
        "colab": {
          "base_uri": "https://localhost:8080/",
          "height": 126
        },
        "outputId": "adc65ffb-3ba2-452f-e379-8ccde3e9ffc3"
      },
      "source": [
        "print(\"Supporting Roles played by Cary Grant in the 1940s :\")\n",
        "carry = df1[(df1.name == 'Cary Grant') & ((df1.year >= 1940) & (df1.year <= 1950)) & (df1.n == 2 )].sort_values('year')\n",
        "carry[['year','character']]"
      ],
      "execution_count": 37,
      "outputs": [
        {
          "output_type": "stream",
          "text": [
            "Supporting Roles played by Cary Grant in the 1940s :\n"
          ],
          "name": "stdout"
        },
        {
          "output_type": "execute_result",
          "data": {
            "text/html": [
              "<div>\n",
              "<style scoped>\n",
              "    .dataframe tbody tr th:only-of-type {\n",
              "        vertical-align: middle;\n",
              "    }\n",
              "\n",
              "    .dataframe tbody tr th {\n",
              "        vertical-align: top;\n",
              "    }\n",
              "\n",
              "    .dataframe thead th {\n",
              "        text-align: right;\n",
              "    }\n",
              "</style>\n",
              "<table border=\"1\" class=\"dataframe\">\n",
              "  <thead>\n",
              "    <tr style=\"text-align: right;\">\n",
              "      <th></th>\n",
              "      <th>year</th>\n",
              "      <th>character</th>\n",
              "    </tr>\n",
              "  </thead>\n",
              "  <tbody>\n",
              "    <tr>\n",
              "      <th>871423</th>\n",
              "      <td>1940</td>\n",
              "      <td>Nick Arden</td>\n",
              "    </tr>\n",
              "    <tr>\n",
              "      <th>871433</th>\n",
              "      <td>1941</td>\n",
              "      <td>Roger Adams</td>\n",
              "    </tr>\n",
              "  </tbody>\n",
              "</table>\n",
              "</div>"
            ],
            "text/plain": [
              "        year    character\n",
              "871423  1940   Nick Arden\n",
              "871433  1941  Roger Adams"
            ]
          },
          "metadata": {
            "tags": []
          },
          "execution_count": 37
        }
      ]
    },
    {
      "cell_type": "markdown",
      "metadata": {
        "id": "r-qZEIGouskC",
        "colab_type": "text"
      },
      "source": [
        "**26. List the leading roles that Cary Grant played in the 1940s in order by year.**"
      ]
    },
    {
      "cell_type": "code",
      "metadata": {
        "id": "fQQzov2Duwm5",
        "colab_type": "code",
        "colab": {
          "base_uri": "https://localhost:8080/",
          "height": 606
        },
        "outputId": "ef6939c7-5a8f-440c-b42a-adcd0c02fd2c"
      },
      "source": [
        "print(\"Leading Roles played by Cary Grant in the 1940s :\")\n",
        "carry = df1[(df1.name == 'Cary Grant') & ((df1.year >= 1940) & (df1.year < 1950)) & (df1.n == 1 )].sort_values('year')\n",
        "carry[['year','character']]"
      ],
      "execution_count": 38,
      "outputs": [
        {
          "output_type": "stream",
          "text": [
            "Leading Roles played by Cary Grant in the 1940s :\n"
          ],
          "name": "stdout"
        },
        {
          "output_type": "execute_result",
          "data": {
            "text/html": [
              "<div>\n",
              "<style scoped>\n",
              "    .dataframe tbody tr th:only-of-type {\n",
              "        vertical-align: middle;\n",
              "    }\n",
              "\n",
              "    .dataframe tbody tr th {\n",
              "        vertical-align: top;\n",
              "    }\n",
              "\n",
              "    .dataframe thead th {\n",
              "        text-align: right;\n",
              "    }\n",
              "</style>\n",
              "<table border=\"1\" class=\"dataframe\">\n",
              "  <thead>\n",
              "    <tr style=\"text-align: right;\">\n",
              "      <th></th>\n",
              "      <th>year</th>\n",
              "      <th>character</th>\n",
              "    </tr>\n",
              "  </thead>\n",
              "  <tbody>\n",
              "    <tr>\n",
              "      <th>871448</th>\n",
              "      <td>1940</td>\n",
              "      <td>Matt Howard</td>\n",
              "    </tr>\n",
              "    <tr>\n",
              "      <th>871407</th>\n",
              "      <td>1940</td>\n",
              "      <td>Walter Burns</td>\n",
              "    </tr>\n",
              "    <tr>\n",
              "      <th>871450</th>\n",
              "      <td>1940</td>\n",
              "      <td>C. K. Dexter Haven</td>\n",
              "    </tr>\n",
              "    <tr>\n",
              "      <th>871438</th>\n",
              "      <td>1941</td>\n",
              "      <td>Johnnie Aysgarth</td>\n",
              "    </tr>\n",
              "    <tr>\n",
              "      <th>871452</th>\n",
              "      <td>1942</td>\n",
              "      <td>Leopold Dilg</td>\n",
              "    </tr>\n",
              "    <tr>\n",
              "      <th>871429</th>\n",
              "      <td>1942</td>\n",
              "      <td>Patrick 'Pat' O'Toole</td>\n",
              "    </tr>\n",
              "    <tr>\n",
              "      <th>871398</th>\n",
              "      <td>1943</td>\n",
              "      <td>Capt. Cassidy</td>\n",
              "    </tr>\n",
              "    <tr>\n",
              "      <th>871422</th>\n",
              "      <td>1943</td>\n",
              "      <td>Joe Adams -posing as Joe Bascopolous</td>\n",
              "    </tr>\n",
              "    <tr>\n",
              "      <th>871430</th>\n",
              "      <td>1944</td>\n",
              "      <td>Jerry Flynn</td>\n",
              "    </tr>\n",
              "    <tr>\n",
              "      <th>871390</th>\n",
              "      <td>1944</td>\n",
              "      <td>Mortimer Brewster</td>\n",
              "    </tr>\n",
              "    <tr>\n",
              "      <th>871425</th>\n",
              "      <td>1944</td>\n",
              "      <td>Ernie Mott</td>\n",
              "    </tr>\n",
              "    <tr>\n",
              "      <th>871424</th>\n",
              "      <td>1946</td>\n",
              "      <td>Cole Porter</td>\n",
              "    </tr>\n",
              "    <tr>\n",
              "      <th>871427</th>\n",
              "      <td>1946</td>\n",
              "      <td>Devlin</td>\n",
              "    </tr>\n",
              "    <tr>\n",
              "      <th>871444</th>\n",
              "      <td>1947</td>\n",
              "      <td>Dick Nugent</td>\n",
              "    </tr>\n",
              "    <tr>\n",
              "      <th>871445</th>\n",
              "      <td>1947</td>\n",
              "      <td>Dudley</td>\n",
              "    </tr>\n",
              "    <tr>\n",
              "      <th>871421</th>\n",
              "      <td>1948</td>\n",
              "      <td>Jim Blandings</td>\n",
              "    </tr>\n",
              "    <tr>\n",
              "      <th>871402</th>\n",
              "      <td>1948</td>\n",
              "      <td>Dr. Madison Brown</td>\n",
              "    </tr>\n",
              "    <tr>\n",
              "      <th>871411</th>\n",
              "      <td>1949</td>\n",
              "      <td>Captain Henri Rochard</td>\n",
              "    </tr>\n",
              "  </tbody>\n",
              "</table>\n",
              "</div>"
            ],
            "text/plain": [
              "        year                             character\n",
              "871448  1940                           Matt Howard\n",
              "871407  1940                          Walter Burns\n",
              "871450  1940                    C. K. Dexter Haven\n",
              "871438  1941                      Johnnie Aysgarth\n",
              "871452  1942                          Leopold Dilg\n",
              "871429  1942                 Patrick 'Pat' O'Toole\n",
              "871398  1943                         Capt. Cassidy\n",
              "871422  1943  Joe Adams -posing as Joe Bascopolous\n",
              "871430  1944                           Jerry Flynn\n",
              "871390  1944                     Mortimer Brewster\n",
              "871425  1944                            Ernie Mott\n",
              "871424  1946                           Cole Porter\n",
              "871427  1946                                Devlin\n",
              "871444  1947                           Dick Nugent\n",
              "871445  1947                                Dudley\n",
              "871421  1948                         Jim Blandings\n",
              "871402  1948                     Dr. Madison Brown\n",
              "871411  1949                 Captain Henri Rochard"
            ]
          },
          "metadata": {
            "tags": []
          },
          "execution_count": 38
        }
      ]
    },
    {
      "cell_type": "markdown",
      "metadata": {
        "id": "v96mZGkou6X8",
        "colab_type": "text"
      },
      "source": [
        "**27. How many roles were available for actors in the 1950s?**"
      ]
    },
    {
      "cell_type": "code",
      "metadata": {
        "id": "Yc8oZJeju_UA",
        "colab_type": "code",
        "colab": {
          "base_uri": "https://localhost:8080/",
          "height": 35
        },
        "outputId": "e0b9dc1d-115d-4a51-96e6-67b5f0408432"
      },
      "source": [
        "len(df1[(df1.type == 'actor') & ((df1.year >= 1950) & (df1.year <= 1960)) ].character)"
      ],
      "execution_count": 39,
      "outputs": [
        {
          "output_type": "execute_result",
          "data": {
            "text/plain": [
              "171302"
            ]
          },
          "metadata": {
            "tags": []
          },
          "execution_count": 39
        }
      ]
    },
    {
      "cell_type": "markdown",
      "metadata": {
        "id": "VlyHUFbVvE2s",
        "colab_type": "text"
      },
      "source": [
        "**28. How many roles were available for actresses in the 1950s?**"
      ]
    },
    {
      "cell_type": "code",
      "metadata": {
        "id": "ohNYe13uvJqw",
        "colab_type": "code",
        "colab": {
          "base_uri": "https://localhost:8080/",
          "height": 35
        },
        "outputId": "2dbffc3b-852a-4e61-b52a-84f2fdfe2b9b"
      },
      "source": [
        "len(df1[(df1.type == 'actress') & ((df1.year >= 1950) & (df1.year <= 1960)) ].character)"
      ],
      "execution_count": 40,
      "outputs": [
        {
          "output_type": "execute_result",
          "data": {
            "text/plain": [
              "63333"
            ]
          },
          "metadata": {
            "tags": []
          },
          "execution_count": 40
        }
      ]
    },
    {
      "cell_type": "markdown",
      "metadata": {
        "id": "UGv6i8Q3vQsO",
        "colab_type": "text"
      },
      "source": [
        "**29. How many leading roles (n=1) were available from the beginning of film history through 1980?**"
      ]
    },
    {
      "cell_type": "code",
      "metadata": {
        "id": "Eha_DxHhvWli",
        "colab_type": "code",
        "colab": {
          "base_uri": "https://localhost:8080/",
          "height": 35
        },
        "outputId": "2321d85e-73ca-4b47-9125-1590bdce8b12"
      },
      "source": [
        "len(df1[ (df1.n == 1) & (df1.year <= 1980) ].character)"
      ],
      "execution_count": 41,
      "outputs": [
        {
          "output_type": "execute_result",
          "data": {
            "text/plain": [
              "65140"
            ]
          },
          "metadata": {
            "tags": []
          },
          "execution_count": 41
        }
      ]
    },
    {
      "cell_type": "markdown",
      "metadata": {
        "id": "NpyAw2ZKvdRo",
        "colab_type": "text"
      },
      "source": [
        "**30. How many non-leading roles were available through from the beginning of film history through 1980?**"
      ]
    },
    {
      "cell_type": "code",
      "metadata": {
        "id": "fjX1GjZrvi0k",
        "colab_type": "code",
        "colab": {
          "base_uri": "https://localhost:8080/",
          "height": 35
        },
        "outputId": "f7de7541-6fb0-44b5-a3d3-09af8c184267"
      },
      "source": [
        "len(df1[ (df1.n > 2) & (df1.year <= 1980) ].character)"
      ],
      "execution_count": 42,
      "outputs": [
        {
          "output_type": "execute_result",
          "data": {
            "text/plain": [
              "607925"
            ]
          },
          "metadata": {
            "tags": []
          },
          "execution_count": 42
        }
      ]
    },
    {
      "cell_type": "markdown",
      "metadata": {
        "id": "qHBVX_QJvpBp",
        "colab_type": "text"
      },
      "source": [
        "**31. How many roles through 1980 were minor enough that they did not warrant a numeric \"n\" rank?**"
      ]
    },
    {
      "cell_type": "code",
      "metadata": {
        "id": "jSuY2a4jvtQ2",
        "colab_type": "code",
        "colab": {
          "base_uri": "https://localhost:8080/",
          "height": 35
        },
        "outputId": "5418c0f2-2d06-4fc2-e051-f8c73e0e9ac3"
      },
      "source": [
        "len( df1[ (df1['n'].isna() ) & (df1.year <= 1980) ].character )"
      ],
      "execution_count": 43,
      "outputs": [
        {
          "output_type": "execute_result",
          "data": {
            "text/plain": [
              "448347"
            ]
          },
          "metadata": {
            "tags": []
          },
          "execution_count": 43
        }
      ]
    }
  ]
}