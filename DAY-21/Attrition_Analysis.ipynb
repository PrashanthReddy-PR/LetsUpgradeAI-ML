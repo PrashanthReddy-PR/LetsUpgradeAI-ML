{
  "nbformat": 4,
  "nbformat_minor": 0,
  "metadata": {
    "colab": {
      "name": "Attrition_Analysis.ipynb",
      "provenance": [],
      "collapsed_sections": []
    },
    "kernelspec": {
      "name": "python3",
      "display_name": "Python 3"
    }
  },
  "cells": [
    {
      "cell_type": "code",
      "metadata": {
        "id": "9Qpn_E3Ieat0"
      },
      "source": [
        "!pip install -U -q PyDrive\n",
        "from pydrive.auth import GoogleAuth\n",
        "from pydrive.drive import GoogleDrive\n",
        "from google.colab import auth\n",
        "from oauth2client.client import GoogleCredentials"
      ],
      "execution_count": 5,
      "outputs": []
    },
    {
      "cell_type": "code",
      "metadata": {
        "id": "UJQo5_9rewXP"
      },
      "source": [
        "auth.authenticate_user()\n",
        "gauth = GoogleAuth()\n",
        "gauth.credentials = GoogleCredentials.get_application_default()\n",
        "drive = GoogleDrive(gauth)"
      ],
      "execution_count": 6,
      "outputs": []
    },
    {
      "cell_type": "code",
      "metadata": {
        "id": "ipZoZ8-Ee-Lq"
      },
      "source": [
        "downloaded = drive.CreateFile({'id':'1YdqEyWTet1CVpu0-UqiQJp9pozM8Kxid'})\n",
        "downloaded.GetContentFile('general_data.csv') "
      ],
      "execution_count": 7,
      "outputs": []
    },
    {
      "cell_type": "code",
      "metadata": {
        "id": "ui6QXwNefkv-"
      },
      "source": [
        "import numpy as np\n",
        "import pandas as pd \n",
        "import matplotlib.pyplot as plt\n",
        "%matplotlib inline\n",
        "import seaborn as sns\n",
        "from warnings import filterwarnings\n",
        "filterwarnings('ignore')\n"
      ],
      "execution_count": 8,
      "outputs": []
    },
    {
      "cell_type": "markdown",
      "metadata": {
        "id": "snUh5nHdgKy0"
      },
      "source": [
        "**ATTRITION ANALYSIS**"
      ]
    },
    {
      "cell_type": "code",
      "metadata": {
        "id": "hdMxA192ftcm",
        "outputId": "f4fd8db5-28e6-47d4-a94f-71d7c51ee032",
        "colab": {
          "base_uri": "https://localhost:8080/",
          "height": 305
        }
      },
      "source": [
        "df = pd.read_csv('general_data.csv')\n",
        "df.head()"
      ],
      "execution_count": 9,
      "outputs": [
        {
          "output_type": "execute_result",
          "data": {
            "text/html": [
              "<div>\n",
              "<style scoped>\n",
              "    .dataframe tbody tr th:only-of-type {\n",
              "        vertical-align: middle;\n",
              "    }\n",
              "\n",
              "    .dataframe tbody tr th {\n",
              "        vertical-align: top;\n",
              "    }\n",
              "\n",
              "    .dataframe thead th {\n",
              "        text-align: right;\n",
              "    }\n",
              "</style>\n",
              "<table border=\"1\" class=\"dataframe\">\n",
              "  <thead>\n",
              "    <tr style=\"text-align: right;\">\n",
              "      <th></th>\n",
              "      <th>Age</th>\n",
              "      <th>Attrition</th>\n",
              "      <th>BusinessTravel</th>\n",
              "      <th>Department</th>\n",
              "      <th>DistanceFromHome</th>\n",
              "      <th>Education</th>\n",
              "      <th>EducationField</th>\n",
              "      <th>EmployeeCount</th>\n",
              "      <th>EmployeeID</th>\n",
              "      <th>Gender</th>\n",
              "      <th>JobLevel</th>\n",
              "      <th>JobRole</th>\n",
              "      <th>MaritalStatus</th>\n",
              "      <th>MonthlyIncome</th>\n",
              "      <th>NumCompaniesWorked</th>\n",
              "      <th>Over18</th>\n",
              "      <th>PercentSalaryHike</th>\n",
              "      <th>StandardHours</th>\n",
              "      <th>StockOptionLevel</th>\n",
              "      <th>TotalWorkingYears</th>\n",
              "      <th>TrainingTimesLastYear</th>\n",
              "      <th>YearsAtCompany</th>\n",
              "      <th>YearsSinceLastPromotion</th>\n",
              "      <th>YearsWithCurrManager</th>\n",
              "    </tr>\n",
              "  </thead>\n",
              "  <tbody>\n",
              "    <tr>\n",
              "      <th>0</th>\n",
              "      <td>51</td>\n",
              "      <td>No</td>\n",
              "      <td>Travel_Rarely</td>\n",
              "      <td>Sales</td>\n",
              "      <td>6</td>\n",
              "      <td>2</td>\n",
              "      <td>Life Sciences</td>\n",
              "      <td>1</td>\n",
              "      <td>1</td>\n",
              "      <td>Female</td>\n",
              "      <td>1</td>\n",
              "      <td>Healthcare Representative</td>\n",
              "      <td>Married</td>\n",
              "      <td>131160</td>\n",
              "      <td>1.0</td>\n",
              "      <td>Y</td>\n",
              "      <td>11</td>\n",
              "      <td>8</td>\n",
              "      <td>0</td>\n",
              "      <td>1.0</td>\n",
              "      <td>6</td>\n",
              "      <td>1</td>\n",
              "      <td>0</td>\n",
              "      <td>0</td>\n",
              "    </tr>\n",
              "    <tr>\n",
              "      <th>1</th>\n",
              "      <td>31</td>\n",
              "      <td>Yes</td>\n",
              "      <td>Travel_Frequently</td>\n",
              "      <td>Research &amp; Development</td>\n",
              "      <td>10</td>\n",
              "      <td>1</td>\n",
              "      <td>Life Sciences</td>\n",
              "      <td>1</td>\n",
              "      <td>2</td>\n",
              "      <td>Female</td>\n",
              "      <td>1</td>\n",
              "      <td>Research Scientist</td>\n",
              "      <td>Single</td>\n",
              "      <td>41890</td>\n",
              "      <td>0.0</td>\n",
              "      <td>Y</td>\n",
              "      <td>23</td>\n",
              "      <td>8</td>\n",
              "      <td>1</td>\n",
              "      <td>6.0</td>\n",
              "      <td>3</td>\n",
              "      <td>5</td>\n",
              "      <td>1</td>\n",
              "      <td>4</td>\n",
              "    </tr>\n",
              "    <tr>\n",
              "      <th>2</th>\n",
              "      <td>32</td>\n",
              "      <td>No</td>\n",
              "      <td>Travel_Frequently</td>\n",
              "      <td>Research &amp; Development</td>\n",
              "      <td>17</td>\n",
              "      <td>4</td>\n",
              "      <td>Other</td>\n",
              "      <td>1</td>\n",
              "      <td>3</td>\n",
              "      <td>Male</td>\n",
              "      <td>4</td>\n",
              "      <td>Sales Executive</td>\n",
              "      <td>Married</td>\n",
              "      <td>193280</td>\n",
              "      <td>1.0</td>\n",
              "      <td>Y</td>\n",
              "      <td>15</td>\n",
              "      <td>8</td>\n",
              "      <td>3</td>\n",
              "      <td>5.0</td>\n",
              "      <td>2</td>\n",
              "      <td>5</td>\n",
              "      <td>0</td>\n",
              "      <td>3</td>\n",
              "    </tr>\n",
              "    <tr>\n",
              "      <th>3</th>\n",
              "      <td>38</td>\n",
              "      <td>No</td>\n",
              "      <td>Non-Travel</td>\n",
              "      <td>Research &amp; Development</td>\n",
              "      <td>2</td>\n",
              "      <td>5</td>\n",
              "      <td>Life Sciences</td>\n",
              "      <td>1</td>\n",
              "      <td>4</td>\n",
              "      <td>Male</td>\n",
              "      <td>3</td>\n",
              "      <td>Human Resources</td>\n",
              "      <td>Married</td>\n",
              "      <td>83210</td>\n",
              "      <td>3.0</td>\n",
              "      <td>Y</td>\n",
              "      <td>11</td>\n",
              "      <td>8</td>\n",
              "      <td>3</td>\n",
              "      <td>13.0</td>\n",
              "      <td>5</td>\n",
              "      <td>8</td>\n",
              "      <td>7</td>\n",
              "      <td>5</td>\n",
              "    </tr>\n",
              "    <tr>\n",
              "      <th>4</th>\n",
              "      <td>32</td>\n",
              "      <td>No</td>\n",
              "      <td>Travel_Rarely</td>\n",
              "      <td>Research &amp; Development</td>\n",
              "      <td>10</td>\n",
              "      <td>1</td>\n",
              "      <td>Medical</td>\n",
              "      <td>1</td>\n",
              "      <td>5</td>\n",
              "      <td>Male</td>\n",
              "      <td>1</td>\n",
              "      <td>Sales Executive</td>\n",
              "      <td>Single</td>\n",
              "      <td>23420</td>\n",
              "      <td>4.0</td>\n",
              "      <td>Y</td>\n",
              "      <td>12</td>\n",
              "      <td>8</td>\n",
              "      <td>2</td>\n",
              "      <td>9.0</td>\n",
              "      <td>2</td>\n",
              "      <td>6</td>\n",
              "      <td>0</td>\n",
              "      <td>4</td>\n",
              "    </tr>\n",
              "  </tbody>\n",
              "</table>\n",
              "</div>"
            ],
            "text/plain": [
              "   Age Attrition  ... YearsSinceLastPromotion YearsWithCurrManager\n",
              "0   51        No  ...                       0                    0\n",
              "1   31       Yes  ...                       1                    4\n",
              "2   32        No  ...                       0                    3\n",
              "3   38        No  ...                       7                    5\n",
              "4   32        No  ...                       0                    4\n",
              "\n",
              "[5 rows x 24 columns]"
            ]
          },
          "metadata": {
            "tags": []
          },
          "execution_count": 9
        }
      ]
    },
    {
      "cell_type": "code",
      "metadata": {
        "id": "CvHPQ4N3LRiJ",
        "outputId": "1cc3f6f2-1ec4-4c49-d33f-94200c6a7852",
        "colab": {
          "base_uri": "https://localhost:8080/"
        }
      },
      "source": [
        "df.shape"
      ],
      "execution_count": 10,
      "outputs": [
        {
          "output_type": "execute_result",
          "data": {
            "text/plain": [
              "(4410, 24)"
            ]
          },
          "metadata": {
            "tags": []
          },
          "execution_count": 10
        }
      ]
    },
    {
      "cell_type": "code",
      "metadata": {
        "id": "WwSb7MM-LUyo",
        "outputId": "f33ea22a-4b18-4a03-892d-963f4c2a1ae3",
        "colab": {
          "base_uri": "https://localhost:8080/"
        }
      },
      "source": [
        "df.info()"
      ],
      "execution_count": 11,
      "outputs": [
        {
          "output_type": "stream",
          "text": [
            "<class 'pandas.core.frame.DataFrame'>\n",
            "RangeIndex: 4410 entries, 0 to 4409\n",
            "Data columns (total 24 columns):\n",
            " #   Column                   Non-Null Count  Dtype  \n",
            "---  ------                   --------------  -----  \n",
            " 0   Age                      4410 non-null   int64  \n",
            " 1   Attrition                4410 non-null   object \n",
            " 2   BusinessTravel           4410 non-null   object \n",
            " 3   Department               4410 non-null   object \n",
            " 4   DistanceFromHome         4410 non-null   int64  \n",
            " 5   Education                4410 non-null   int64  \n",
            " 6   EducationField           4410 non-null   object \n",
            " 7   EmployeeCount            4410 non-null   int64  \n",
            " 8   EmployeeID               4410 non-null   int64  \n",
            " 9   Gender                   4410 non-null   object \n",
            " 10  JobLevel                 4410 non-null   int64  \n",
            " 11  JobRole                  4410 non-null   object \n",
            " 12  MaritalStatus            4410 non-null   object \n",
            " 13  MonthlyIncome            4410 non-null   int64  \n",
            " 14  NumCompaniesWorked       4391 non-null   float64\n",
            " 15  Over18                   4410 non-null   object \n",
            " 16  PercentSalaryHike        4410 non-null   int64  \n",
            " 17  StandardHours            4410 non-null   int64  \n",
            " 18  StockOptionLevel         4410 non-null   int64  \n",
            " 19  TotalWorkingYears        4401 non-null   float64\n",
            " 20  TrainingTimesLastYear    4410 non-null   int64  \n",
            " 21  YearsAtCompany           4410 non-null   int64  \n",
            " 22  YearsSinceLastPromotion  4410 non-null   int64  \n",
            " 23  YearsWithCurrManager     4410 non-null   int64  \n",
            "dtypes: float64(2), int64(14), object(8)\n",
            "memory usage: 827.0+ KB\n"
          ],
          "name": "stdout"
        }
      ]
    },
    {
      "cell_type": "code",
      "metadata": {
        "id": "T1aS_32NLbWv",
        "outputId": "66296428-43ed-416c-d8f8-2525f95d8907",
        "colab": {
          "base_uri": "https://localhost:8080/"
        }
      },
      "source": [
        "df.isnull().sum()"
      ],
      "execution_count": 12,
      "outputs": [
        {
          "output_type": "execute_result",
          "data": {
            "text/plain": [
              "Age                         0\n",
              "Attrition                   0\n",
              "BusinessTravel              0\n",
              "Department                  0\n",
              "DistanceFromHome            0\n",
              "Education                   0\n",
              "EducationField              0\n",
              "EmployeeCount               0\n",
              "EmployeeID                  0\n",
              "Gender                      0\n",
              "JobLevel                    0\n",
              "JobRole                     0\n",
              "MaritalStatus               0\n",
              "MonthlyIncome               0\n",
              "NumCompaniesWorked         19\n",
              "Over18                      0\n",
              "PercentSalaryHike           0\n",
              "StandardHours               0\n",
              "StockOptionLevel            0\n",
              "TotalWorkingYears           9\n",
              "TrainingTimesLastYear       0\n",
              "YearsAtCompany              0\n",
              "YearsSinceLastPromotion     0\n",
              "YearsWithCurrManager        0\n",
              "dtype: int64"
            ]
          },
          "metadata": {
            "tags": []
          },
          "execution_count": 12
        }
      ]
    },
    {
      "cell_type": "markdown",
      "metadata": {
        "id": "YCCtmSIHLiu-"
      },
      "source": [
        "**Filling Null Values by mean and median**"
      ]
    },
    {
      "cell_type": "code",
      "metadata": {
        "id": "qhsCoDsNLn63"
      },
      "source": [
        "df['TotalWorkingYears'] = df['TotalWorkingYears'].fillna(11.28) \n",
        "# 11.28 is the mean of TotalWorkingYears column \n",
        "\n",
        "df['NumCompaniesWorked'] = df['NumCompaniesWorked'].fillna(2)\n",
        "# 2 is the median of NumCompaniesWorked"
      ],
      "execution_count": 13,
      "outputs": []
    },
    {
      "cell_type": "code",
      "metadata": {
        "id": "iZ-vMY0MLw2p",
        "outputId": "a477e583-49b5-4f1b-860c-c60c0aa31c04",
        "colab": {
          "base_uri": "https://localhost:8080/"
        }
      },
      "source": [
        "df.isna().sum()"
      ],
      "execution_count": 14,
      "outputs": [
        {
          "output_type": "execute_result",
          "data": {
            "text/plain": [
              "Age                        0\n",
              "Attrition                  0\n",
              "BusinessTravel             0\n",
              "Department                 0\n",
              "DistanceFromHome           0\n",
              "Education                  0\n",
              "EducationField             0\n",
              "EmployeeCount              0\n",
              "EmployeeID                 0\n",
              "Gender                     0\n",
              "JobLevel                   0\n",
              "JobRole                    0\n",
              "MaritalStatus              0\n",
              "MonthlyIncome              0\n",
              "NumCompaniesWorked         0\n",
              "Over18                     0\n",
              "PercentSalaryHike          0\n",
              "StandardHours              0\n",
              "StockOptionLevel           0\n",
              "TotalWorkingYears          0\n",
              "TrainingTimesLastYear      0\n",
              "YearsAtCompany             0\n",
              "YearsSinceLastPromotion    0\n",
              "YearsWithCurrManager       0\n",
              "dtype: int64"
            ]
          },
          "metadata": {
            "tags": []
          },
          "execution_count": 14
        }
      ]
    },
    {
      "cell_type": "markdown",
      "metadata": {
        "id": "280CXo7YL3AI"
      },
      "source": [
        "**Ploting Histogram**"
      ]
    },
    {
      "cell_type": "code",
      "metadata": {
        "id": "SNtUTB1VL5hN",
        "outputId": "af7c8f0e-03c7-4717-f818-6a450ebad34a",
        "colab": {
          "base_uri": "https://localhost:8080/",
          "height": 607
        }
      },
      "source": [
        "df.hist(figsize=(10,10))\n",
        "plt.show()"
      ],
      "execution_count": 15,
      "outputs": [
        {
          "output_type": "display_data",
          "data": {
            "image/png": "[encoded data removed]",
            "text/plain": [
              "<Figure size 720x720 with 16 Axes>"
            ]
          },
          "metadata": {
            "tags": [],
            "needs_background": "light"
          }
        }
      ]
    },
    {
      "cell_type": "markdown",
      "metadata": {
        "id": "etnQZLsZMCNW"
      },
      "source": [
        "\n",
        "Inference from Histogram:\n",
        "* Education, JobLevel, StockOptional Level are Categorical Variables which are in Encoded format\n",
        "* Standard Hours, Employee Count, Employee ID are irrelevent columns"
      ]
    },
    {
      "cell_type": "code",
      "metadata": {
        "id": "5WOIaSyxMWsN",
        "outputId": "8297bc0f-d7bb-43de-ac9f-a54bb0ea521a",
        "colab": {
          "base_uri": "https://localhost:8080/",
          "height": 1000
        }
      },
      "source": [
        "columns = ['Age', 'DistanceFromHome', 'MonthlyIncome', 'NumCompaniesWorked', 'PercentSalaryHike','TotalWorkingYears', \n",
        "           'TrainingTimesLastYear', 'YearsAtCompany', 'YearsSinceLastPromotion', 'YearsWithCurrManager']\n",
        "\n",
        "for col in columns:\n",
        "    sns.distplot(df[col])\n",
        "    plt.show()"
      ],
      "execution_count": 16,
      "outputs": [
        {
          "output_type": "display_data",
          "data": {
            "image/png": "[encoded data removed]",
            "text/plain": [
              "<Figure size 432x288 with 1 Axes>"
            ]
          },
          "metadata": {
            "tags": [],
            "needs_background": "light"
          }
        },
        {
          "output_type": "display_data",
          "data": {
            "image/png": "[encoded data removed]",
            "text/plain": [
              "<Figure size 432x288 with 1 Axes>"
            ]
          },
          "metadata": {
            "tags": [],
            "needs_background": "light"
          }
        },
        {
          "output_type": "display_data",
          "data": {
            "image/png": "[encoded data removed]",
            "text/plain": [
              "<Figure size 432x288 with 1 Axes>"
            ]
          },
          "metadata": {
            "tags": [],
            "needs_background": "light"
          }
        },
        {
          "output_type": "display_data",
          "data": {
            "image/png": "[encoded data removed]",
            "text/plain": [
              "<Figure size 432x288 with 1 Axes>"
            ]
          },
          "metadata": {
            "tags": [],
            "needs_background": "light"
          }
        },
        {
          "output_type": "display_data",
          "data": {
            "image/png": "[encoded data removed]",
            "text/plain": [
              "<Figure size 432x288 with 1 Axes>"
            ]
          },
          "metadata": {
            "tags": [],
            "needs_background": "light"
          }
        },
        {
          "output_type": "display_data",
          "data": {
            "image/png": "[encoded data removed]",
            "text/plain": [
              "<Figure size 432x288 with 1 Axes>"
            ]
          },
          "metadata": {
            "tags": [],
            "needs_background": "light"
          }
        },
        {
          "output_type": "display_data",
          "data": {
            "image/png": "[encoded data removed]",
            "text/plain": [
              "<Figure size 432x288 with 1 Axes>"
            ]
          },
          "metadata": {
            "tags": [],
            "needs_background": "light"
          }
        },
        {
          "output_type": "display_data",
          "data": {
            "image/png": "[encoded data removed]",
            "text/plain": [
              "<Figure size 432x288 with 1 Axes>"
            ]
          },
          "metadata": {
            "tags": [],
            "needs_background": "light"
          }
        },
        {
          "output_type": "display_data",
          "data": {
            "image/png": "[encoded data removed]",
            "text/plain": [
              "<Figure size 432x288 with 1 Axes>"
            ]
          },
          "metadata": {
            "tags": [],
            "needs_background": "light"
          }
        },
        {
          "output_type": "display_data",
          "data": {
            "image/png": "[encoded data removed]",
            "text/plain": [
              "<Figure size 432x288 with 1 Axes>"
            ]
          },
          "metadata": {
            "tags": [],
            "needs_background": "light"
          }
        }
      ]
    },
    {
      "cell_type": "markdown",
      "metadata": {
        "id": "dB4K47xRMivQ"
      },
      "source": [
        "\n",
        "Inference from Distplot\n",
        "* Age, NumCompanies Worked, PercentSalaryHike, TotalWorking Years, YearsSinceLastPromotion is Unimodal\n",
        "* Distance from Home is Bimodal\n",
        "* Monthly Income, TrainingtimesLastYear, YearsAtCompany, YearswithCurrManager is Multimodal\n"
      ]
    },
    {
      "cell_type": "markdown",
      "metadata": {
        "id": "wJFk03G3M-VA"
      },
      "source": [
        "**Finding Outliers using Boxplot**"
      ]
    },
    {
      "cell_type": "code",
      "metadata": {
        "id": "WafOpa7lNAAc",
        "outputId": "58f177d0-9426-43dc-bdc2-1e5a98ce8e53",
        "colab": {
          "base_uri": "https://localhost:8080/",
          "height": 1000
        }
      },
      "source": [
        "col = ['Age', 'DistanceFromHome', 'Education', 'EmployeeCount', 'EmployeeID','JobLevel','MonthlyIncome', \n",
        "       'NumCompaniesWorked', 'PercentSalaryHike', 'StandardHours','StockOptionLevel',\n",
        "       'TotalWorkingYears','TrainingTimesLastYear','YearsAtCompany','YearsSinceLastPromotion','YearsWithCurrManager']\n",
        "\n",
        "for i in col:\n",
        "    sns.boxplot(df[i])\n",
        "    plt.show()"
      ],
      "execution_count": 18,
      "outputs": [
        {
          "output_type": "display_data",
          "data": {
            "image/png": "[encoded data removed]",
            "text/plain": [
              "<Figure size 432x288 with 1 Axes>"
            ]
          },
          "metadata": {
            "tags": [],
            "needs_background": "light"
          }
        },
        {
          "output_type": "display_data",
          "data": {
            "image/png": "[encoded data removed]",
            "text/plain": [
              "<Figure size 432x288 with 1 Axes>"
            ]
          },
          "metadata": {
            "tags": [],
            "needs_background": "light"
          }
        },
        {
          "output_type": "display_data",
          "data": {
            "image/png": "[encoded data removed]",
            "text/plain": [
              "<Figure size 432x288 with 1 Axes>"
            ]
          },
          "metadata": {
            "tags": [],
            "needs_background": "light"
          }
        },
        {
          "output_type": "display_data",
          "data": {
            "image/png": "[encoded data removed]",
            "text/plain": [
              "<Figure size 432x288 with 1 Axes>"
            ]
          },
          "metadata": {
            "tags": [],
            "needs_background": "light"
          }
        },
        {
          "output_type": "display_data",
          "data": {
            "image/png": "[encoded data removed]",
            "text/plain": [
              "<Figure size 432x288 with 1 Axes>"
            ]
          },
          "metadata": {
            "tags": [],
            "needs_background": "light"
          }
        },
        {
          "output_type": "display_data",
          "data": {
            "image/png": "[encoded data removed]",
            "text/plain": [
              "<Figure size 432x288 with 1 Axes>"
            ]
          },
          "metadata": {
            "tags": [],
            "needs_background": "light"
          }
        },
        {
          "output_type": "display_data",
          "data": {
            "image/png": "[encoded data removed]",
            "text/plain": [
              "<Figure size 432x288 with 1 Axes>"
            ]
          },
          "metadata": {
            "tags": [],
            "needs_background": "light"
          }
        },
        {
          "output_type": "display_data",
          "data": {
            "image/png": "[encoded data removed]",
            "text/plain": [
              "<Figure size 432x288 with 1 Axes>"
            ]
          },
          "metadata": {
            "tags": [],
            "needs_background": "light"
          }
        },
        {
          "output_type": "display_data",
          "data": {
            "image/png": "[encoded data removed]",
            "text/plain": [
              "<Figure size 432x288 with 1 Axes>"
            ]
          },
          "metadata": {
            "tags": [],
            "needs_background": "light"
          }
        },
        {
          "output_type": "display_data",
          "data": {
            "image/png": "[encoded data removed]",
            "text/plain": [
              "<Figure size 432x288 with 1 Axes>"
            ]
          },
          "metadata": {
            "tags": [],
            "needs_background": "light"
          }
        },
        {
          "output_type": "display_data",
          "data": {
            "image/png": "[encoded data removed]",
            "text/plain": [
              "<Figure size 432x288 with 1 Axes>"
            ]
          },
          "metadata": {
            "tags": [],
            "needs_background": "light"
          }
        },
        {
          "output_type": "display_data",
          "data": {
            "image/png": "[encoded data removed]",
            "text/plain": [
              "<Figure size 432x288 with 1 Axes>"
            ]
          },
          "metadata": {
            "tags": [],
            "needs_background": "light"
          }
        },
        {
          "output_type": "display_data",
          "data": {
            "image/png": "[encoded data removed]",
            "text/plain": [
              "<Figure size 432x288 with 1 Axes>"
            ]
          },
          "metadata": {
            "tags": [],
            "needs_background": "light"
          }
        },
        {
          "output_type": "display_data",
          "data": {
            "image/png": "[encoded data removed]",
            "text/plain": [
              "<Figure size 432x288 with 1 Axes>"
            ]
          },
          "metadata": {
            "tags": [],
            "needs_background": "light"
          }
        },
        {
          "output_type": "display_data",
          "data": {
            "image/png": "[encoded data removed]",
            "text/plain": [
              "<Figure size 432x288 with 1 Axes>"
            ]
          },
          "metadata": {
            "tags": [],
            "needs_background": "light"
          }
        },
        {
          "output_type": "display_data",
          "data": {
            "image/png": "[encoded data removed]",
            "text/plain": [
              "<Figure size 432x288 with 1 Axes>"
            ]
          },
          "metadata": {
            "tags": [],
            "needs_background": "light"
          }
        }
      ]
    },
    {
      "cell_type": "markdown",
      "metadata": {
        "id": "9Fz500LRNNDL"
      },
      "source": [
        "Inference from BoxPlots\n",
        "Ploted Box Plot for all the Continous Variable ( int and float not object type variable)\n",
        "\n",
        "* Age, DistanceFromHome, Education, EmployeeID, JobLevel,  PercentSalaryHike : Donot have any outlier\n",
        "* NumCompaniesWorked, StockOptionLevel has Single Outlier\n",
        "* MonthlyIncome has Many Outliers\n",
        "* TotalWorkingYears, YearsAtCompany, YearsSinceLastPromotion have Moderate Outliers\n",
        "* TrainingTimesLastYear, YearsWithCurrManager : Have Some Outliers\n",
        "* EmployeeCount , StandardHours : Just have a line ( Irrelevant Columns of DataSet )"
      ]
    },
    {
      "cell_type": "markdown",
      "metadata": {
        "id": "Cc8gYhyzNiI2"
      },
      "source": [
        "**Converting Text Column to Categorical Form**"
      ]
    },
    {
      "cell_type": "code",
      "metadata": {
        "id": "i7sbANb9NjqP"
      },
      "source": [
        "from sklearn.preprocessing import LabelEncoder\n",
        "lab = LabelEncoder()\n",
        "\n",
        "df['Attrition'] = lab.fit_transform(df['Attrition'])\n",
        "df['BusinessTravel'] = lab.fit_transform(df['BusinessTravel'])\n",
        "df['Department'] = lab.fit_transform(df['Department'])\n",
        "df['Over18'] = lab.fit_transform(df['Over18'])\n",
        "df['MaritalStatus'] = lab.fit_transform(df['MaritalStatus'])\n",
        "df['JobRole'] = lab.fit_transform(df['JobRole'])\n",
        "df['Gender'] = lab.fit_transform(df['Gender'])\n",
        "df['EducationField'] = lab.fit_transform(df['EducationField'])"
      ],
      "execution_count": 19,
      "outputs": []
    },
    {
      "cell_type": "code",
      "metadata": {
        "id": "XQbQWDzpNqdI",
        "outputId": "8351d912-6132-4245-c8b7-c10d976ea060",
        "colab": {
          "base_uri": "https://localhost:8080/",
          "height": 218
        }
      },
      "source": [
        "df.head()"
      ],
      "execution_count": 20,
      "outputs": [
        {
          "output_type": "execute_result",
          "data": {
            "text/html": [
              "<div>\n",
              "<style scoped>\n",
              "    .dataframe tbody tr th:only-of-type {\n",
              "        vertical-align: middle;\n",
              "    }\n",
              "\n",
              "    .dataframe tbody tr th {\n",
              "        vertical-align: top;\n",
              "    }\n",
              "\n",
              "    .dataframe thead th {\n",
              "        text-align: right;\n",
              "    }\n",
              "</style>\n",
              "<table border=\"1\" class=\"dataframe\">\n",
              "  <thead>\n",
              "    <tr style=\"text-align: right;\">\n",
              "      <th></th>\n",
              "      <th>Age</th>\n",
              "      <th>Attrition</th>\n",
              "      <th>BusinessTravel</th>\n",
              "      <th>Department</th>\n",
              "      <th>DistanceFromHome</th>\n",
              "      <th>Education</th>\n",
              "      <th>EducationField</th>\n",
              "      <th>EmployeeCount</th>\n",
              "      <th>EmployeeID</th>\n",
              "      <th>Gender</th>\n",
              "      <th>JobLevel</th>\n",
              "      <th>JobRole</th>\n",
              "      <th>MaritalStatus</th>\n",
              "      <th>MonthlyIncome</th>\n",
              "      <th>NumCompaniesWorked</th>\n",
              "      <th>Over18</th>\n",
              "      <th>PercentSalaryHike</th>\n",
              "      <th>StandardHours</th>\n",
              "      <th>StockOptionLevel</th>\n",
              "      <th>TotalWorkingYears</th>\n",
              "      <th>TrainingTimesLastYear</th>\n",
              "      <th>YearsAtCompany</th>\n",
              "      <th>YearsSinceLastPromotion</th>\n",
              "      <th>YearsWithCurrManager</th>\n",
              "    </tr>\n",
              "  </thead>\n",
              "  <tbody>\n",
              "    <tr>\n",
              "      <th>0</th>\n",
              "      <td>51</td>\n",
              "      <td>0</td>\n",
              "      <td>2</td>\n",
              "      <td>2</td>\n",
              "      <td>6</td>\n",
              "      <td>2</td>\n",
              "      <td>1</td>\n",
              "      <td>1</td>\n",
              "      <td>1</td>\n",
              "      <td>0</td>\n",
              "      <td>1</td>\n",
              "      <td>0</td>\n",
              "      <td>1</td>\n",
              "      <td>131160</td>\n",
              "      <td>1.0</td>\n",
              "      <td>0</td>\n",
              "      <td>11</td>\n",
              "      <td>8</td>\n",
              "      <td>0</td>\n",
              "      <td>1.0</td>\n",
              "      <td>6</td>\n",
              "      <td>1</td>\n",
              "      <td>0</td>\n",
              "      <td>0</td>\n",
              "    </tr>\n",
              "    <tr>\n",
              "      <th>1</th>\n",
              "      <td>31</td>\n",
              "      <td>1</td>\n",
              "      <td>1</td>\n",
              "      <td>1</td>\n",
              "      <td>10</td>\n",
              "      <td>1</td>\n",
              "      <td>1</td>\n",
              "      <td>1</td>\n",
              "      <td>2</td>\n",
              "      <td>0</td>\n",
              "      <td>1</td>\n",
              "      <td>6</td>\n",
              "      <td>2</td>\n",
              "      <td>41890</td>\n",
              "      <td>0.0</td>\n",
              "      <td>0</td>\n",
              "      <td>23</td>\n",
              "      <td>8</td>\n",
              "      <td>1</td>\n",
              "      <td>6.0</td>\n",
              "      <td>3</td>\n",
              "      <td>5</td>\n",
              "      <td>1</td>\n",
              "      <td>4</td>\n",
              "    </tr>\n",
              "    <tr>\n",
              "      <th>2</th>\n",
              "      <td>32</td>\n",
              "      <td>0</td>\n",
              "      <td>1</td>\n",
              "      <td>1</td>\n",
              "      <td>17</td>\n",
              "      <td>4</td>\n",
              "      <td>4</td>\n",
              "      <td>1</td>\n",
              "      <td>3</td>\n",
              "      <td>1</td>\n",
              "      <td>4</td>\n",
              "      <td>7</td>\n",
              "      <td>1</td>\n",
              "      <td>193280</td>\n",
              "      <td>1.0</td>\n",
              "      <td>0</td>\n",
              "      <td>15</td>\n",
              "      <td>8</td>\n",
              "      <td>3</td>\n",
              "      <td>5.0</td>\n",
              "      <td>2</td>\n",
              "      <td>5</td>\n",
              "      <td>0</td>\n",
              "      <td>3</td>\n",
              "    </tr>\n",
              "    <tr>\n",
              "      <th>3</th>\n",
              "      <td>38</td>\n",
              "      <td>0</td>\n",
              "      <td>0</td>\n",
              "      <td>1</td>\n",
              "      <td>2</td>\n",
              "      <td>5</td>\n",
              "      <td>1</td>\n",
              "      <td>1</td>\n",
              "      <td>4</td>\n",
              "      <td>1</td>\n",
              "      <td>3</td>\n",
              "      <td>1</td>\n",
              "      <td>1</td>\n",
              "      <td>83210</td>\n",
              "      <td>3.0</td>\n",
              "      <td>0</td>\n",
              "      <td>11</td>\n",
              "      <td>8</td>\n",
              "      <td>3</td>\n",
              "      <td>13.0</td>\n",
              "      <td>5</td>\n",
              "      <td>8</td>\n",
              "      <td>7</td>\n",
              "      <td>5</td>\n",
              "    </tr>\n",
              "    <tr>\n",
              "      <th>4</th>\n",
              "      <td>32</td>\n",
              "      <td>0</td>\n",
              "      <td>2</td>\n",
              "      <td>1</td>\n",
              "      <td>10</td>\n",
              "      <td>1</td>\n",
              "      <td>3</td>\n",
              "      <td>1</td>\n",
              "      <td>5</td>\n",
              "      <td>1</td>\n",
              "      <td>1</td>\n",
              "      <td>7</td>\n",
              "      <td>2</td>\n",
              "      <td>23420</td>\n",
              "      <td>4.0</td>\n",
              "      <td>0</td>\n",
              "      <td>12</td>\n",
              "      <td>8</td>\n",
              "      <td>2</td>\n",
              "      <td>9.0</td>\n",
              "      <td>2</td>\n",
              "      <td>6</td>\n",
              "      <td>0</td>\n",
              "      <td>4</td>\n",
              "    </tr>\n",
              "  </tbody>\n",
              "</table>\n",
              "</div>"
            ],
            "text/plain": [
              "   Age  Attrition  ...  YearsSinceLastPromotion  YearsWithCurrManager\n",
              "0   51          0  ...                        0                     0\n",
              "1   31          1  ...                        1                     4\n",
              "2   32          0  ...                        0                     3\n",
              "3   38          0  ...                        7                     5\n",
              "4   32          0  ...                        0                     4\n",
              "\n",
              "[5 rows x 24 columns]"
            ]
          },
          "metadata": {
            "tags": []
          },
          "execution_count": 20
        }
      ]
    },
    {
      "cell_type": "code",
      "metadata": {
        "id": "X1pALwkPNxO9",
        "outputId": "37db5cb2-b05b-48ab-cf00-ac459a259631",
        "colab": {
          "base_uri": "https://localhost:8080/",
          "height": 218
        }
      },
      "source": [
        "df = df.drop(['EmployeeCount','EmployeeID', 'Over18','StandardHours'], axis=1)\n",
        "df.head()"
      ],
      "execution_count": 21,
      "outputs": [
        {
          "output_type": "execute_result",
          "data": {
            "text/html": [
              "<div>\n",
              "<style scoped>\n",
              "    .dataframe tbody tr th:only-of-type {\n",
              "        vertical-align: middle;\n",
              "    }\n",
              "\n",
              "    .dataframe tbody tr th {\n",
              "        vertical-align: top;\n",
              "    }\n",
              "\n",
              "    .dataframe thead th {\n",
              "        text-align: right;\n",
              "    }\n",
              "</style>\n",
              "<table border=\"1\" class=\"dataframe\">\n",
              "  <thead>\n",
              "    <tr style=\"text-align: right;\">\n",
              "      <th></th>\n",
              "      <th>Age</th>\n",
              "      <th>Attrition</th>\n",
              "      <th>BusinessTravel</th>\n",
              "      <th>Department</th>\n",
              "      <th>DistanceFromHome</th>\n",
              "      <th>Education</th>\n",
              "      <th>EducationField</th>\n",
              "      <th>Gender</th>\n",
              "      <th>JobLevel</th>\n",
              "      <th>JobRole</th>\n",
              "      <th>MaritalStatus</th>\n",
              "      <th>MonthlyIncome</th>\n",
              "      <th>NumCompaniesWorked</th>\n",
              "      <th>PercentSalaryHike</th>\n",
              "      <th>StockOptionLevel</th>\n",
              "      <th>TotalWorkingYears</th>\n",
              "      <th>TrainingTimesLastYear</th>\n",
              "      <th>YearsAtCompany</th>\n",
              "      <th>YearsSinceLastPromotion</th>\n",
              "      <th>YearsWithCurrManager</th>\n",
              "    </tr>\n",
              "  </thead>\n",
              "  <tbody>\n",
              "    <tr>\n",
              "      <th>0</th>\n",
              "      <td>51</td>\n",
              "      <td>0</td>\n",
              "      <td>2</td>\n",
              "      <td>2</td>\n",
              "      <td>6</td>\n",
              "      <td>2</td>\n",
              "      <td>1</td>\n",
              "      <td>0</td>\n",
              "      <td>1</td>\n",
              "      <td>0</td>\n",
              "      <td>1</td>\n",
              "      <td>131160</td>\n",
              "      <td>1.0</td>\n",
              "      <td>11</td>\n",
              "      <td>0</td>\n",
              "      <td>1.0</td>\n",
              "      <td>6</td>\n",
              "      <td>1</td>\n",
              "      <td>0</td>\n",
              "      <td>0</td>\n",
              "    </tr>\n",
              "    <tr>\n",
              "      <th>1</th>\n",
              "      <td>31</td>\n",
              "      <td>1</td>\n",
              "      <td>1</td>\n",
              "      <td>1</td>\n",
              "      <td>10</td>\n",
              "      <td>1</td>\n",
              "      <td>1</td>\n",
              "      <td>0</td>\n",
              "      <td>1</td>\n",
              "      <td>6</td>\n",
              "      <td>2</td>\n",
              "      <td>41890</td>\n",
              "      <td>0.0</td>\n",
              "      <td>23</td>\n",
              "      <td>1</td>\n",
              "      <td>6.0</td>\n",
              "      <td>3</td>\n",
              "      <td>5</td>\n",
              "      <td>1</td>\n",
              "      <td>4</td>\n",
              "    </tr>\n",
              "    <tr>\n",
              "      <th>2</th>\n",
              "      <td>32</td>\n",
              "      <td>0</td>\n",
              "      <td>1</td>\n",
              "      <td>1</td>\n",
              "      <td>17</td>\n",
              "      <td>4</td>\n",
              "      <td>4</td>\n",
              "      <td>1</td>\n",
              "      <td>4</td>\n",
              "      <td>7</td>\n",
              "      <td>1</td>\n",
              "      <td>193280</td>\n",
              "      <td>1.0</td>\n",
              "      <td>15</td>\n",
              "      <td>3</td>\n",
              "      <td>5.0</td>\n",
              "      <td>2</td>\n",
              "      <td>5</td>\n",
              "      <td>0</td>\n",
              "      <td>3</td>\n",
              "    </tr>\n",
              "    <tr>\n",
              "      <th>3</th>\n",
              "      <td>38</td>\n",
              "      <td>0</td>\n",
              "      <td>0</td>\n",
              "      <td>1</td>\n",
              "      <td>2</td>\n",
              "      <td>5</td>\n",
              "      <td>1</td>\n",
              "      <td>1</td>\n",
              "      <td>3</td>\n",
              "      <td>1</td>\n",
              "      <td>1</td>\n",
              "      <td>83210</td>\n",
              "      <td>3.0</td>\n",
              "      <td>11</td>\n",
              "      <td>3</td>\n",
              "      <td>13.0</td>\n",
              "      <td>5</td>\n",
              "      <td>8</td>\n",
              "      <td>7</td>\n",
              "      <td>5</td>\n",
              "    </tr>\n",
              "    <tr>\n",
              "      <th>4</th>\n",
              "      <td>32</td>\n",
              "      <td>0</td>\n",
              "      <td>2</td>\n",
              "      <td>1</td>\n",
              "      <td>10</td>\n",
              "      <td>1</td>\n",
              "      <td>3</td>\n",
              "      <td>1</td>\n",
              "      <td>1</td>\n",
              "      <td>7</td>\n",
              "      <td>2</td>\n",
              "      <td>23420</td>\n",
              "      <td>4.0</td>\n",
              "      <td>12</td>\n",
              "      <td>2</td>\n",
              "      <td>9.0</td>\n",
              "      <td>2</td>\n",
              "      <td>6</td>\n",
              "      <td>0</td>\n",
              "      <td>4</td>\n",
              "    </tr>\n",
              "  </tbody>\n",
              "</table>\n",
              "</div>"
            ],
            "text/plain": [
              "   Age  Attrition  ...  YearsSinceLastPromotion  YearsWithCurrManager\n",
              "0   51          0  ...                        0                     0\n",
              "1   31          1  ...                        1                     4\n",
              "2   32          0  ...                        0                     3\n",
              "3   38          0  ...                        7                     5\n",
              "4   32          0  ...                        0                     4\n",
              "\n",
              "[5 rows x 20 columns]"
            ]
          },
          "metadata": {
            "tags": []
          },
          "execution_count": 21
        }
      ]
    },
    {
      "cell_type": "code",
      "metadata": {
        "id": "ZJJLzGFjNz6n",
        "outputId": "df580338-026e-46c3-acb9-7560196cdfee",
        "colab": {
          "base_uri": "https://localhost:8080/"
        }
      },
      "source": [
        "df.shape"
      ],
      "execution_count": 22,
      "outputs": [
        {
          "output_type": "execute_result",
          "data": {
            "text/plain": [
              "(4410, 20)"
            ]
          },
          "metadata": {
            "tags": []
          },
          "execution_count": 22
        }
      ]
    },
    {
      "cell_type": "markdown",
      "metadata": {
        "id": "1LQd6fJlN4KV"
      },
      "source": [
        "**Spliting the Dataset**"
      ]
    },
    {
      "cell_type": "code",
      "metadata": {
        "id": "PI6kTeMwN8Zi",
        "outputId": "a6848f94-ff49-4ae6-b729-a5f21d4fd037",
        "colab": {
          "base_uri": "https://localhost:8080/",
          "height": 198
        }
      },
      "source": [
        "y = df.iloc[:,1:2]\n",
        "y.head()"
      ],
      "execution_count": 23,
      "outputs": [
        {
          "output_type": "execute_result",
          "data": {
            "text/html": [
              "<div>\n",
              "<style scoped>\n",
              "    .dataframe tbody tr th:only-of-type {\n",
              "        vertical-align: middle;\n",
              "    }\n",
              "\n",
              "    .dataframe tbody tr th {\n",
              "        vertical-align: top;\n",
              "    }\n",
              "\n",
              "    .dataframe thead th {\n",
              "        text-align: right;\n",
              "    }\n",
              "</style>\n",
              "<table border=\"1\" class=\"dataframe\">\n",
              "  <thead>\n",
              "    <tr style=\"text-align: right;\">\n",
              "      <th></th>\n",
              "      <th>Attrition</th>\n",
              "    </tr>\n",
              "  </thead>\n",
              "  <tbody>\n",
              "    <tr>\n",
              "      <th>0</th>\n",
              "      <td>0</td>\n",
              "    </tr>\n",
              "    <tr>\n",
              "      <th>1</th>\n",
              "      <td>1</td>\n",
              "    </tr>\n",
              "    <tr>\n",
              "      <th>2</th>\n",
              "      <td>0</td>\n",
              "    </tr>\n",
              "    <tr>\n",
              "      <th>3</th>\n",
              "      <td>0</td>\n",
              "    </tr>\n",
              "    <tr>\n",
              "      <th>4</th>\n",
              "      <td>0</td>\n",
              "    </tr>\n",
              "  </tbody>\n",
              "</table>\n",
              "</div>"
            ],
            "text/plain": [
              "   Attrition\n",
              "0          0\n",
              "1          1\n",
              "2          0\n",
              "3          0\n",
              "4          0"
            ]
          },
          "metadata": {
            "tags": []
          },
          "execution_count": 23
        }
      ]
    },
    {
      "cell_type": "code",
      "metadata": {
        "id": "qH29-9W0OEdI",
        "outputId": "41626d92-4177-4d19-d190-591d22a52735",
        "colab": {
          "base_uri": "https://localhost:8080/",
          "height": 218
        }
      },
      "source": [
        "\n",
        "x = df.drop(['Attrition'], axis=1)\n",
        "x.head()"
      ],
      "execution_count": 24,
      "outputs": [
        {
          "output_type": "execute_result",
          "data": {
            "text/html": [
              "<div>\n",
              "<style scoped>\n",
              "    .dataframe tbody tr th:only-of-type {\n",
              "        vertical-align: middle;\n",
              "    }\n",
              "\n",
              "    .dataframe tbody tr th {\n",
              "        vertical-align: top;\n",
              "    }\n",
              "\n",
              "    .dataframe thead th {\n",
              "        text-align: right;\n",
              "    }\n",
              "</style>\n",
              "<table border=\"1\" class=\"dataframe\">\n",
              "  <thead>\n",
              "    <tr style=\"text-align: right;\">\n",
              "      <th></th>\n",
              "      <th>Age</th>\n",
              "      <th>BusinessTravel</th>\n",
              "      <th>Department</th>\n",
              "      <th>DistanceFromHome</th>\n",
              "      <th>Education</th>\n",
              "      <th>EducationField</th>\n",
              "      <th>Gender</th>\n",
              "      <th>JobLevel</th>\n",
              "      <th>JobRole</th>\n",
              "      <th>MaritalStatus</th>\n",
              "      <th>MonthlyIncome</th>\n",
              "      <th>NumCompaniesWorked</th>\n",
              "      <th>PercentSalaryHike</th>\n",
              "      <th>StockOptionLevel</th>\n",
              "      <th>TotalWorkingYears</th>\n",
              "      <th>TrainingTimesLastYear</th>\n",
              "      <th>YearsAtCompany</th>\n",
              "      <th>YearsSinceLastPromotion</th>\n",
              "      <th>YearsWithCurrManager</th>\n",
              "    </tr>\n",
              "  </thead>\n",
              "  <tbody>\n",
              "    <tr>\n",
              "      <th>0</th>\n",
              "      <td>51</td>\n",
              "      <td>2</td>\n",
              "      <td>2</td>\n",
              "      <td>6</td>\n",
              "      <td>2</td>\n",
              "      <td>1</td>\n",
              "      <td>0</td>\n",
              "      <td>1</td>\n",
              "      <td>0</td>\n",
              "      <td>1</td>\n",
              "      <td>131160</td>\n",
              "      <td>1.0</td>\n",
              "      <td>11</td>\n",
              "      <td>0</td>\n",
              "      <td>1.0</td>\n",
              "      <td>6</td>\n",
              "      <td>1</td>\n",
              "      <td>0</td>\n",
              "      <td>0</td>\n",
              "    </tr>\n",
              "    <tr>\n",
              "      <th>1</th>\n",
              "      <td>31</td>\n",
              "      <td>1</td>\n",
              "      <td>1</td>\n",
              "      <td>10</td>\n",
              "      <td>1</td>\n",
              "      <td>1</td>\n",
              "      <td>0</td>\n",
              "      <td>1</td>\n",
              "      <td>6</td>\n",
              "      <td>2</td>\n",
              "      <td>41890</td>\n",
              "      <td>0.0</td>\n",
              "      <td>23</td>\n",
              "      <td>1</td>\n",
              "      <td>6.0</td>\n",
              "      <td>3</td>\n",
              "      <td>5</td>\n",
              "      <td>1</td>\n",
              "      <td>4</td>\n",
              "    </tr>\n",
              "    <tr>\n",
              "      <th>2</th>\n",
              "      <td>32</td>\n",
              "      <td>1</td>\n",
              "      <td>1</td>\n",
              "      <td>17</td>\n",
              "      <td>4</td>\n",
              "      <td>4</td>\n",
              "      <td>1</td>\n",
              "      <td>4</td>\n",
              "      <td>7</td>\n",
              "      <td>1</td>\n",
              "      <td>193280</td>\n",
              "      <td>1.0</td>\n",
              "      <td>15</td>\n",
              "      <td>3</td>\n",
              "      <td>5.0</td>\n",
              "      <td>2</td>\n",
              "      <td>5</td>\n",
              "      <td>0</td>\n",
              "      <td>3</td>\n",
              "    </tr>\n",
              "    <tr>\n",
              "      <th>3</th>\n",
              "      <td>38</td>\n",
              "      <td>0</td>\n",
              "      <td>1</td>\n",
              "      <td>2</td>\n",
              "      <td>5</td>\n",
              "      <td>1</td>\n",
              "      <td>1</td>\n",
              "      <td>3</td>\n",
              "      <td>1</td>\n",
              "      <td>1</td>\n",
              "      <td>83210</td>\n",
              "      <td>3.0</td>\n",
              "      <td>11</td>\n",
              "      <td>3</td>\n",
              "      <td>13.0</td>\n",
              "      <td>5</td>\n",
              "      <td>8</td>\n",
              "      <td>7</td>\n",
              "      <td>5</td>\n",
              "    </tr>\n",
              "    <tr>\n",
              "      <th>4</th>\n",
              "      <td>32</td>\n",
              "      <td>2</td>\n",
              "      <td>1</td>\n",
              "      <td>10</td>\n",
              "      <td>1</td>\n",
              "      <td>3</td>\n",
              "      <td>1</td>\n",
              "      <td>1</td>\n",
              "      <td>7</td>\n",
              "      <td>2</td>\n",
              "      <td>23420</td>\n",
              "      <td>4.0</td>\n",
              "      <td>12</td>\n",
              "      <td>2</td>\n",
              "      <td>9.0</td>\n",
              "      <td>2</td>\n",
              "      <td>6</td>\n",
              "      <td>0</td>\n",
              "      <td>4</td>\n",
              "    </tr>\n",
              "  </tbody>\n",
              "</table>\n",
              "</div>"
            ],
            "text/plain": [
              "   Age  BusinessTravel  ...  YearsSinceLastPromotion  YearsWithCurrManager\n",
              "0   51               2  ...                        0                     0\n",
              "1   31               1  ...                        1                     4\n",
              "2   32               1  ...                        0                     3\n",
              "3   38               0  ...                        7                     5\n",
              "4   32               2  ...                        0                     4\n",
              "\n",
              "[5 rows x 19 columns]"
            ]
          },
          "metadata": {
            "tags": []
          },
          "execution_count": 24
        }
      ]
    },
    {
      "cell_type": "code",
      "metadata": {
        "id": "Uf4Hj8qPOHNH",
        "outputId": "2757e547-218b-49ce-f21b-f026753a912f",
        "colab": {
          "base_uri": "https://localhost:8080/"
        }
      },
      "source": [
        "x.shape"
      ],
      "execution_count": 25,
      "outputs": [
        {
          "output_type": "execute_result",
          "data": {
            "text/plain": [
              "(4410, 19)"
            ]
          },
          "metadata": {
            "tags": []
          },
          "execution_count": 25
        }
      ]
    },
    {
      "cell_type": "markdown",
      "metadata": {
        "id": "IFwE28l-OLwz"
      },
      "source": [
        "**Applying Logistic Regression**\n",
        "Target Variable is Attrition which is Binary Categorical ( 0 or 1 )"
      ]
    },
    {
      "cell_type": "code",
      "metadata": {
        "id": "ovuqLwArORsr"
      },
      "source": [
        "import statsmodels.api as sm"
      ],
      "execution_count": 26,
      "outputs": []
    },
    {
      "cell_type": "code",
      "metadata": {
        "id": "_d6ADT3gOVLH",
        "outputId": "08964aca-c36a-4eb5-8c3f-2471c1c64539",
        "colab": {
          "base_uri": "https://localhost:8080/"
        }
      },
      "source": [
        "x1 = sm.add_constant(x)\n",
        "logistic = sm.Logit(y,x1)\n",
        "result = logistic.fit()"
      ],
      "execution_count": 27,
      "outputs": [
        {
          "output_type": "stream",
          "text": [
            "Optimization terminated successfully.\n",
            "         Current function value: 0.393030\n",
            "         Iterations 7\n"
          ],
          "name": "stdout"
        }
      ]
    },
    {
      "cell_type": "code",
      "metadata": {
        "id": "rztWPP4dOjwK",
        "outputId": "f284b3bb-0337-4404-c260-719ab7a113f7",
        "colab": {
          "base_uri": "https://localhost:8080/",
          "height": 624
        }
      },
      "source": [
        "result.summary()"
      ],
      "execution_count": 28,
      "outputs": [
        {
          "output_type": "execute_result",
          "data": {
            "text/html": [
              "<table class=\"simpletable\">\n",
              "<caption>Logit Regression Results</caption>\n",
              "<tr>\n",
              "  <th>Dep. Variable:</th>       <td>Attrition</td>    <th>  No. Observations:  </th>  <td>  4410</td>  \n",
              "</tr>\n",
              "<tr>\n",
              "  <th>Model:</th>                 <td>Logit</td>      <th>  Df Residuals:      </th>  <td>  4390</td>  \n",
              "</tr>\n",
              "<tr>\n",
              "  <th>Method:</th>                 <td>MLE</td>       <th>  Df Model:          </th>  <td>    19</td>  \n",
              "</tr>\n",
              "<tr>\n",
              "  <th>Date:</th>            <td>Mon, 02 Nov 2020</td> <th>  Pseudo R-squ.:     </th>  <td>0.1102</td>  \n",
              "</tr>\n",
              "<tr>\n",
              "  <th>Time:</th>                <td>04:32:12</td>     <th>  Log-Likelihood:    </th> <td> -1733.3</td> \n",
              "</tr>\n",
              "<tr>\n",
              "  <th>converged:</th>             <td>True</td>       <th>  LL-Null:           </th> <td> -1947.9</td> \n",
              "</tr>\n",
              "<tr>\n",
              "  <th>Covariance Type:</th>     <td>nonrobust</td>    <th>  LLR p-value:       </th> <td>3.584e-79</td>\n",
              "</tr>\n",
              "</table>\n",
              "<table class=\"simpletable\">\n",
              "<tr>\n",
              "             <td></td>                <th>coef</th>     <th>std err</th>      <th>z</th>      <th>P>|z|</th>  <th>[0.025</th>    <th>0.975]</th>  \n",
              "</tr>\n",
              "<tr>\n",
              "  <th>const</th>                   <td>    0.0771</td> <td>    0.414</td> <td>    0.186</td> <td> 0.852</td> <td>   -0.734</td> <td>    0.888</td>\n",
              "</tr>\n",
              "<tr>\n",
              "  <th>Age</th>                     <td>   -0.0309</td> <td>    0.007</td> <td>   -4.525</td> <td> 0.000</td> <td>   -0.044</td> <td>   -0.018</td>\n",
              "</tr>\n",
              "<tr>\n",
              "  <th>BusinessTravel</th>          <td>   -0.0177</td> <td>    0.065</td> <td>   -0.271</td> <td> 0.786</td> <td>   -0.146</td> <td>    0.111</td>\n",
              "</tr>\n",
              "<tr>\n",
              "  <th>Department</th>              <td>   -0.2423</td> <td>    0.081</td> <td>   -2.981</td> <td> 0.003</td> <td>   -0.402</td> <td>   -0.083</td>\n",
              "</tr>\n",
              "<tr>\n",
              "  <th>DistanceFromHome</th>        <td>   -0.0013</td> <td>    0.005</td> <td>   -0.247</td> <td> 0.805</td> <td>   -0.012</td> <td>    0.009</td>\n",
              "</tr>\n",
              "<tr>\n",
              "  <th>Education</th>               <td>   -0.0627</td> <td>    0.043</td> <td>   -1.472</td> <td> 0.141</td> <td>   -0.146</td> <td>    0.021</td>\n",
              "</tr>\n",
              "<tr>\n",
              "  <th>EducationField</th>          <td>   -0.0965</td> <td>    0.033</td> <td>   -2.894</td> <td> 0.004</td> <td>   -0.162</td> <td>   -0.031</td>\n",
              "</tr>\n",
              "<tr>\n",
              "  <th>Gender</th>                  <td>    0.0861</td> <td>    0.090</td> <td>    0.962</td> <td> 0.336</td> <td>   -0.089</td> <td>    0.262</td>\n",
              "</tr>\n",
              "<tr>\n",
              "  <th>JobLevel</th>                <td>   -0.0240</td> <td>    0.040</td> <td>   -0.605</td> <td> 0.545</td> <td>   -0.102</td> <td>    0.054</td>\n",
              "</tr>\n",
              "<tr>\n",
              "  <th>JobRole</th>                 <td>    0.0377</td> <td>    0.018</td> <td>    2.109</td> <td> 0.035</td> <td>    0.003</td> <td>    0.073</td>\n",
              "</tr>\n",
              "<tr>\n",
              "  <th>MaritalStatus</th>           <td>    0.5885</td> <td>    0.063</td> <td>    9.320</td> <td> 0.000</td> <td>    0.465</td> <td>    0.712</td>\n",
              "</tr>\n",
              "<tr>\n",
              "  <th>MonthlyIncome</th>           <td>-1.876e-06</td> <td> 9.56e-07</td> <td>   -1.963</td> <td> 0.050</td> <td>-3.75e-06</td> <td>-2.63e-09</td>\n",
              "</tr>\n",
              "<tr>\n",
              "  <th>NumCompaniesWorked</th>      <td>    0.1161</td> <td>    0.018</td> <td>    6.328</td> <td> 0.000</td> <td>    0.080</td> <td>    0.152</td>\n",
              "</tr>\n",
              "<tr>\n",
              "  <th>PercentSalaryHike</th>       <td>    0.0118</td> <td>    0.012</td> <td>    1.004</td> <td> 0.315</td> <td>   -0.011</td> <td>    0.035</td>\n",
              "</tr>\n",
              "<tr>\n",
              "  <th>StockOptionLevel</th>        <td>   -0.0640</td> <td>    0.052</td> <td>   -1.239</td> <td> 0.215</td> <td>   -0.165</td> <td>    0.037</td>\n",
              "</tr>\n",
              "<tr>\n",
              "  <th>TotalWorkingYears</th>       <td>   -0.0573</td> <td>    0.012</td> <td>   -4.817</td> <td> 0.000</td> <td>   -0.081</td> <td>   -0.034</td>\n",
              "</tr>\n",
              "<tr>\n",
              "  <th>TrainingTimesLastYear</th>   <td>   -0.1467</td> <td>    0.035</td> <td>   -4.172</td> <td> 0.000</td> <td>   -0.216</td> <td>   -0.078</td>\n",
              "</tr>\n",
              "<tr>\n",
              "  <th>YearsAtCompany</th>          <td>    0.0120</td> <td>    0.018</td> <td>    0.655</td> <td> 0.513</td> <td>   -0.024</td> <td>    0.048</td>\n",
              "</tr>\n",
              "<tr>\n",
              "  <th>YearsSinceLastPromotion</th> <td>    0.1322</td> <td>    0.020</td> <td>    6.457</td> <td> 0.000</td> <td>    0.092</td> <td>    0.172</td>\n",
              "</tr>\n",
              "<tr>\n",
              "  <th>YearsWithCurrManager</th>    <td>   -0.1395</td> <td>    0.022</td> <td>   -6.309</td> <td> 0.000</td> <td>   -0.183</td> <td>   -0.096</td>\n",
              "</tr>\n",
              "</table>"
            ],
            "text/plain": [
              "<class 'statsmodels.iolib.summary.Summary'>\n",
              "\"\"\"\n",
              "                           Logit Regression Results                           \n",
              "==============================================================================\n",
              "Dep. Variable:              Attrition   No. Observations:                 4410\n",
              "Model:                          Logit   Df Residuals:                     4390\n",
              "Method:                           MLE   Df Model:                           19\n",
              "Date:                Mon, 02 Nov 2020   Pseudo R-squ.:                  0.1102\n",
              "Time:                        04:32:12   Log-Likelihood:                -1733.3\n",
              "converged:                       True   LL-Null:                       -1947.9\n",
              "Covariance Type:            nonrobust   LLR p-value:                 3.584e-79\n",
              "===========================================================================================\n",
              "                              coef    std err          z      P>|z|      [0.025      0.975]\n",
              "-------------------------------------------------------------------------------------------\n",
              "const                       0.0771      0.414      0.186      0.852      -0.734       0.888\n",
              "Age                        -0.0309      0.007     -4.525      0.000      -0.044      -0.018\n",
              "BusinessTravel             -0.0177      0.065     -0.271      0.786      -0.146       0.111\n",
              "Department                 -0.2423      0.081     -2.981      0.003      -0.402      -0.083\n",
              "DistanceFromHome           -0.0013      0.005     -0.247      0.805      -0.012       0.009\n",
              "Education                  -0.0627      0.043     -1.472      0.141      -0.146       0.021\n",
              "EducationField             -0.0965      0.033     -2.894      0.004      -0.162      -0.031\n",
              "Gender                      0.0861      0.090      0.962      0.336      -0.089       0.262\n",
              "JobLevel                   -0.0240      0.040     -0.605      0.545      -0.102       0.054\n",
              "JobRole                     0.0377      0.018      2.109      0.035       0.003       0.073\n",
              "MaritalStatus               0.5885      0.063      9.320      0.000       0.465       0.712\n",
              "MonthlyIncome           -1.876e-06   9.56e-07     -1.963      0.050   -3.75e-06   -2.63e-09\n",
              "NumCompaniesWorked          0.1161      0.018      6.328      0.000       0.080       0.152\n",
              "PercentSalaryHike           0.0118      0.012      1.004      0.315      -0.011       0.035\n",
              "StockOptionLevel           -0.0640      0.052     -1.239      0.215      -0.165       0.037\n",
              "TotalWorkingYears          -0.0573      0.012     -4.817      0.000      -0.081      -0.034\n",
              "TrainingTimesLastYear      -0.1467      0.035     -4.172      0.000      -0.216      -0.078\n",
              "YearsAtCompany              0.0120      0.018      0.655      0.513      -0.024       0.048\n",
              "YearsSinceLastPromotion     0.1322      0.020      6.457      0.000       0.092       0.172\n",
              "YearsWithCurrManager       -0.1395      0.022     -6.309      0.000      -0.183      -0.096\n",
              "===========================================================================================\n",
              "\"\"\""
            ]
          },
          "metadata": {
            "tags": []
          },
          "execution_count": 28
        }
      ]
    },
    {
      "cell_type": "markdown",
      "metadata": {
        "id": "GetGimBEOu0-"
      },
      "source": [
        "Inference from Logistic Regression\n",
        "* BusinessTravel, DistanceFromHome, Education, Gender, JobLevel, PercentSalaryHike, StockOptionLevel, YearsAtCompany have p value more than 0.05 ie, They are Not Significantly Important\n",
        "* Age, Department, EducationField, JobRole, MaritalStatus, MonthlyIncome, NumCompaniesWorked, TotalWorkingYears, TrainingTimesLastYear, YearsSinceLastPromotion, YearsWithCurrManager has p value less than 0.05 ie, They are Significantly Important.\n",
        "* Out of All the Attributes which are having p values less than 0.05, Age, MaritalStatus, NumCompaniesWorked, TotalWorkingYears, TrainingTimesLastYear, YearsSinceLastPromotion and YearsWithCurrManager are most significant.\n",
        "* The regression equation is -\n",
        "Attrition = 0.075 + (-0.03)Age + (-0.02)BusinessTravel + (-0.24)Department + (-0.0013)DistanceFromHome + (-0.06)Education+ (-0.097)EducationField + (0.086)Gender + (-0.02)JobLevel + (0.038)JobRole + (0.589)MaritalStatus + (-1.8e-06)MonthlyIncome + (0.116)NumCompaniesWorked + (0.012)PercentSalaryHike + (-0.06)StockOptionLevel + (-0.057)TotalWorkingYears + (-0.147)TrainingTimesLastYear + (0.012)YearsAtCompany + (0.132)YearsSinceLastPromotion + (-0.1395)YearsWithCurrManager"
      ]
    }
  ]
}