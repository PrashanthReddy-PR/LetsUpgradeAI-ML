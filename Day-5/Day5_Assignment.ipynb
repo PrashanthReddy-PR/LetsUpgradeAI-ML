{
  "nbformat": 4,
  "nbformat_minor": 0,
  "metadata": {
    "colab": {
      "name": "Day5_Assignment.ipynb",
      "provenance": [],
      "collapsed_sections": []
    },
    "kernelspec": {
      "name": "python3",
      "display_name": "Python 3"
    }
  },
  "cells": [
    {
      "cell_type": "code",
      "metadata": {
        "id": "zEtOPwGgueQz",
        "colab_type": "code",
        "colab": {
          "base_uri": "https://localhost:8080/",
          "height": 1000
        },
        "outputId": "e5d20cec-225b-4b4d-8f4f-ac0a211d994f"
      },
      "source": [
        "'''Write a Python program to find the first 20 non-even prime natural numbers.'''\n",
        "def Non_Even_Prime():\n",
        "   for n in range(1,21):\n",
        "      if n>1:\n",
        "          for i in range(2,n):\n",
        "            if (n%i)==0:\n",
        "                    break\n",
        "            else:\n",
        "                    print(n)\n",
        "\n",
        "print(Non_Even_Prime())\n",
        "\n",
        "      "
      ],
      "execution_count": 63,
      "outputs": [
        {
          "output_type": "stream",
          "text": [
            "3\n",
            "5\n",
            "5\n",
            "5\n",
            "7\n",
            "7\n",
            "7\n",
            "7\n",
            "7\n",
            "9\n",
            "11\n",
            "11\n",
            "11\n",
            "11\n",
            "11\n",
            "11\n",
            "11\n",
            "11\n",
            "11\n",
            "13\n",
            "13\n",
            "13\n",
            "13\n",
            "13\n",
            "13\n",
            "13\n",
            "13\n",
            "13\n",
            "13\n",
            "13\n",
            "15\n",
            "17\n",
            "17\n",
            "17\n",
            "17\n",
            "17\n",
            "17\n",
            "17\n",
            "17\n",
            "17\n",
            "17\n",
            "17\n",
            "17\n",
            "17\n",
            "17\n",
            "17\n",
            "19\n",
            "19\n",
            "19\n",
            "19\n",
            "19\n",
            "19\n",
            "19\n",
            "19\n",
            "19\n",
            "19\n",
            "19\n",
            "19\n",
            "19\n",
            "19\n",
            "19\n",
            "19\n",
            "19\n",
            "None\n"
          ],
          "name": "stdout"
        }
      ]
    },
    {
      "cell_type": "code",
      "metadata": {
        "id": "_7bWuUYMDQHt",
        "colab_type": "code",
        "colab": {
          "base_uri": "https://localhost:8080/",
          "height": 289
        },
        "outputId": "8b317d41-1926-4ff1-a3ee-e651145bc488"
      },
      "source": [
        "a=\"Hello World\"\n",
        "b=\"ml\"\n",
        "c=a+b\n",
        "print(len(a))\n",
        "print(a.strip())\n",
        "print(a.lower())\n",
        "print(a.upper())\n",
        "print(a.replace(\"H\", \"J\"))\n",
        "print(a.split(\",\"))\n",
        "print(a.capitalize())\n",
        "print(c)\n",
        "print(a.casefold())\n",
        "print(a.isalpha())\n",
        "print(a.isalnum())\n",
        "print(a.isupper())\n",
        "print(a.islower())\n",
        "print(a.isspace())\n",
        "print(a.islower())\n",
        "print(a.isdigit())\n",
        "\n"
      ],
      "execution_count": 71,
      "outputs": [
        {
          "output_type": "stream",
          "text": [
            "11\n",
            "Hello World\n",
            "hello world\n",
            "HELLO WORLD\n",
            "Jello World\n",
            "['Hello World']\n",
            "Hello world\n",
            "Hello Worldml\n",
            "hello world\n",
            "False\n",
            "False\n",
            "False\n",
            "False\n",
            "False\n",
            "False\n",
            "False\n"
          ],
          "name": "stdout"
        }
      ]
    },
    {
      "cell_type": "code",
      "metadata": {
        "id": "rCbhY-dQHXrm",
        "colab_type": "code",
        "colab": {
          "base_uri": "https://localhost:8080/",
          "height": 34
        },
        "outputId": "4f698f2c-fa62-47cf-fbac-46268cb7b027"
      },
      "source": [
        "'''Write a Python program to check if the given string is a Palindrome or Anagram or None of them.\n",
        "Display the message accordingly to the user.'''\n",
        "s1 =\"listen\"\n",
        "s2 =\"silent\" \n",
        "if(b[::-1]==a):\n",
        "   print(\"string is palindrome\")\n",
        "elif (sorted(s1)==sorted(s2)):\n",
        "      print(\"string is anagram\")\n",
        "else:\n",
        "    Print(\"string is neither anagram nor palindrome\")"
      ],
      "execution_count": 73,
      "outputs": [
        {
          "output_type": "stream",
          "text": [
            "string is anagram\n"
          ],
          "name": "stdout"
        }
      ]
    },
    {
      "cell_type": "code",
      "metadata": {
        "id": "Kb36yoI4IUCl",
        "colab_type": "code",
        "colab": {
          "base_uri": "https://localhost:8080/",
          "height": 34
        },
        "outputId": "5d461ee8-dc6d-4346-fbf5-e098db939f0e"
      },
      "source": [
        "'''Write a Python's user defined function that removes all the additional characters from the string\n",
        "and converts it finally to lower case using built-in lower(). eg: If the string is \"Dr. Darshan Ingle\n",
        "@AI-ML Trainer\", then the output be \"drdarshaningleaimltrainer\".'''\n",
        "a_string = \"Dr. Darshan Ingle @ AI-ML Trainer\"\n",
        "alphanumeric = \"\"\n",
        "\n",
        "for character in a_string:\n",
        "    if character.isalnum():\n",
        "        alphanumeric += character\n",
        "\n",
        "\n",
        "print(alphanumeric)"
      ],
      "execution_count": 80,
      "outputs": [
        {
          "output_type": "stream",
          "text": [
            "DrDarshanIngleAIMLTrainer\n"
          ],
          "name": "stdout"
        }
      ]
    }
  ]
}